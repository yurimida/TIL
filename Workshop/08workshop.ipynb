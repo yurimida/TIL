{
 "cells": [
  {
   "cell_type": "markdown",
   "metadata": {},
   "source": [
    "### 08workshop"
   ]
  },
  {
   "cell_type": "code",
   "execution_count": null,
   "metadata": {},
   "outputs": [],
   "source": [
    "import random\n",
    "from flask import Flask, jsonify\n",
    "\n",
    "# Flask 라는 class를 빼겠다.\n",
    "\n",
    "\n",
    "app = Flask(__name__)\n",
    "\n",
    "\n",
    "@app.route('/dictionary/<string:word>')\n",
    "def my_word(word):\n",
    "\n",
    "    word_first = {'apple':'사과','banana':'바나나'}\n",
    "        \n",
    "    for key, val in word_first.items():\n",
    "\n",
    "        if word in word_first:\n",
    "            return (f'{key}은{val}')\n",
    "\n",
    "        else:\n",
    "            return (f'{word}은(는) 나만의 단어장에 없는 단어입니다!')\n",
    "            \n",
    "if __name__ == '__main__':\n",
    "    app.run(debug=True)"
   ]
  }
 ],
 "metadata": {
  "kernelspec": {
   "display_name": "Python 3",
   "language": "python",
   "name": "python3"
  },
  "language_info": {
   "codemirror_mode": {
    "name": "ipython",
    "version": 3
   },
   "file_extension": ".py",
   "mimetype": "text/x-python",
   "name": "python",
   "nbconvert_exporter": "python",
   "pygments_lexer": "ipython3",
   "version": "3.6.7"
  }
 },
 "nbformat": 4,
 "nbformat_minor": 2
}
