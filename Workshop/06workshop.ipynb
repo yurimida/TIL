{
 "cells": [
  {
   "cell_type": "code",
   "execution_count": null,
   "metadata": {},
   "outputs": [],
   "source": [
    "def bisection(n):\n",
    "   \n",
    "    min_n = 1\n",
    "    max_n = n\n",
    "    \n",
    "    while min_n ** 2< n < max_n ** 2 :\n",
    "    \n",
    "        guess = (min_n  + max_n) / 2 \n",
    "    \n",
    "        if n < guess ** 2:\n",
    "            max_n = guess\n",
    "        \n",
    "        elif n > guess ** 2:\n",
    "            min_n = guess\n",
    "       \n",
    "        \n",
    "        if round(min_n,4) == round(max_n, 4):\n",
    "            return round(min_n,4)\n",
    "        \n",
    "        \n",
    "bisection(2)"
   ]
  }
 ],
 "metadata": {
  "kernelspec": {
   "display_name": "Python 3",
   "language": "python",
   "name": "python3"
  },
  "language_info": {
   "codemirror_mode": {
    "name": "ipython",
    "version": 3
   },
   "file_extension": ".py",
   "mimetype": "text/x-python",
   "name": "python",
   "nbconvert_exporter": "python",
   "pygments_lexer": "ipython3",
   "version": "3.6.7"
  }
 },
 "nbformat": 4,
 "nbformat_minor": 2
}
