{
 "cells": [
  {
   "cell_type": "markdown",
   "metadata": {},
   "source": [
    "## 09Homework"
   ]
  },
  {
   "cell_type": "markdown",
   "metadata": {},
   "source": [
    "```\n",
    "1. HTML 은무엇의 약자인가? [  3  ] \n",
    "(1) Hyperlinks and Text Markup Language \n",
    "(2) HomeTool Markup Language \n",
    "(3) HyperText Markup Language \n",
    "(4) HyperTool Markup Languag\n",
    "```"
   ]
  },
  {
   "cell_type": "markdown",
   "metadata": {},
   "source": [
    "(3) HyperText Markup Language"
   ]
  },
  {
   "cell_type": "markdown",
   "metadata": {},
   "source": [
    "```\n",
    "2. 다음중맞으면 T, 틀리면 F 를기입 하시오.\n",
    "〮웹표준을 만드는 곳은 Mozilla 재단이다. [ F    ]\n",
    "〮표(table) 을만들 때에는 반드시 <th> 태그를 사용해야 한다. [  F   ]\n",
    "〮제목(Heading) 태그는 제목 이외에는 사용하지 않는 것이 좋다. [  T   ]\n",
    "〮인용문을 가리키는 태그는 <blockquote> 이다. [    T ]\n",
    "```"
   ]
  },
  {
   "cell_type": "code",
   "execution_count": null,
   "metadata": {},
   "outputs": [],
   "source": []
  },
  {
   "cell_type": "markdown",
   "metadata": {},
   "source": [
    "3. 보기중콘텐츠의 의미를 명확히 하기 위해 HTML5 에서 새롭게 추가된 시맨틱(semantic) 태그를 모두 선택 하시오. [ article, div, footer, nav, head, container ]\n",
    "<article> ,<footer>,<nav>"
   ]
  },
  {
   "cell_type": "markdown",
   "metadata": {},
   "source": [
    "4. 아래이미지와 같은 로그인 화면을 생성하는 html 코드를 작성하시오.\n"
   ]
  },
  {
   "cell_type": "markdown",
   "metadata": {},
   "source": [
    "<form action=\"submission.html\" method=\"GET\">\n",
    "        \n",
    "   <label for=\"ID\"><strong>ID:<strong></label>\n",
    "   <input id=\"ID\" name=\"ID\" type=\"text\" required minlength=\"3\" maxlength=\"15\">\n",
    "   <br>\n",
    "   <label for=\"PWD\"><strong>PWD:<strong></label>\n",
    "   <input id=\"PWD\" name=\"PWD\" type=\"password\" required minlength=\"8\" maxlength=\"15\">\n",
    "<input type=\"submit\" value=\"로그인\">\n",
    "      </form>\n",
    "                    \n",
    "              \n",
    "         "
   ]
  }
 ],
 "metadata": {
  "kernelspec": {
   "display_name": "Python 3",
   "language": "python",
   "name": "python3"
  },
  "language_info": {
   "codemirror_mode": {
    "name": "ipython",
    "version": 3
   },
   "file_extension": ".py",
   "mimetype": "text/x-python",
   "name": "python",
   "nbconvert_exporter": "python",
   "pygments_lexer": "ipython3",
   "version": "3.6.7"
  }
 },
 "nbformat": 4,
 "nbformat_minor": 2
}
