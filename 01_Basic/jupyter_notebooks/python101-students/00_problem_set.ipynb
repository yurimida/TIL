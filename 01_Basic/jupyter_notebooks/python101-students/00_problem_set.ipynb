{
 "cells": [
  {
   "cell_type": "markdown",
   "metadata": {},
   "source": [
    "# problem set"
   ]
  },
  {
   "cell_type": "markdown",
   "metadata": {},
   "source": [
    "## 1. 이상한 덧셈\n",
    "> 숫자로 구성된 리스트에서 양의 정수의 합을 구하는 함수, `positive_sum`을 만들어 보아요\n",
    "\n",
    "예시) \n",
    "```python\n",
    "positive_sum([1, -10,2]) # 3\n",
    "positive_sum([-1, -2, -3, -4]) #0\n",
    "```\n"
   ]
  },
  {
   "cell_type": "code",
   "execution_count": null,
   "metadata": {},
   "outputs": [],
   "source": [
    "def positive_sum(numbers):\n",
    "    total = 0 \n",
    "    for number in numbers:\n",
    "        if number > 0 :\n",
    "            total += number\n",
    "    return total \n",
    "\n",
    "def pos_sum(numbers):\n",
    "    return sum(x for x in numbers if x > 0 )\n",
    "    \n",
    "print(positive_sum([1, -10,2])) # 3\n",
    "print(positive_sum([-1, -2, -3, -4])) #0\n",
    "print(pos_sum([-1,-2,-3,-4]))\n",
    "print(pos_sum([1,2,3,-6]))"
   ]
  },
  {
   "cell_type": "code",
   "execution_count": null,
   "metadata": {},
   "outputs": [],
   "source": [
    "\n",
    "\n",
    "\n",
    "def positive_sum(my_num):\n",
    "    plus = 0\n",
    "    for i in my_num:\n",
    "        if i > 0:\n",
    "            plus += i\n",
    "    return plus\n",
    "    \n",
    "\n",
    "    \n",
    "positive_sum([1, -10, 2])\n",
    "      \n",
    "        "
   ]
  },
  {
   "cell_type": "markdown",
   "metadata": {},
   "source": [
    "### 2.  문자열 탐색\n",
    "> 문자열 요소로만 이루어진 리스트를 넣었을 때, 문자열의 길이가 2이상이고 주어진 문자열의 첫 번째와 마지막 문자가 같은 문자열의 수를 세는 함수 'start_end'를 작성하세요\n",
    "\n",
    "예시\n",
    "\n",
    "```python\n",
    "start_end(['level','asdwe','s','abadsfa','qlq']) #3\n",
    "```"
   ]
  },
  {
   "cell_type": "code",
   "execution_count": null,
   "metadata": {},
   "outputs": [],
   "source": [
    "\n",
    "\n",
    "def start_end(my_list):\n",
    "    two_word = []\n",
    "    for i in my_list:\n",
    "        if len(i) >= 2 and i[0] == i[-1]:\n",
    "            two_word += [i]\n",
    "    return(len(two_word))\n",
    "            \n",
    "            \n",
    "\n",
    "\n",
    "start_end(['level','asdwe','s','abadsfa','qlq'])\n",
    "\n",
    "\n",
    "\n"
   ]
  },
  {
   "cell_type": "code",
   "execution_count": 2,
   "metadata": {},
   "outputs": [
    {
     "data": {
      "text/plain": [
       "3"
      ]
     },
     "execution_count": 2,
     "metadata": {},
     "output_type": "execute_result"
    }
   ],
   "source": [
    "def start_end(my_list):\n",
    "    count = 0\n",
    "    for i in my_list:\n",
    "        if len(i) >= 2 and i[0] == i[-1]:\n",
    "            count += 1\n",
    "    return count\n",
    "\n",
    "start_end(['level','asdwe','s','abadsfa','qlq'])"
   ]
  },
  {
   "cell_type": "markdown",
   "metadata": {},
   "source": [
    "### 3.collatz\n",
    "    \n",
    " > collatz 추측: 어떤 자연수 n이던지, 다음과 같은 작업을 반복하면 1로 만들수 있다.\n",
    " 1. n이 짝수라면 2로나눈다\n",
    " 2. n이 홀수라면 3을 곱하고 1을 더한다.\n",
    " 3. 결과가 나온 수에 1 /2 의 작업을 1일 될때까지 반복한다.\n",
    "    \n",
    " >예를 들어 n이 6이면, 6=>3=>10=>5=>16=>8=>4=>2=>1 이 되며 8번 (=> 갯수!)만에 1이 됩니다. 자연수 n이 들어왔을때, 몇번의 작업만에 1이 되는지를 `return`하는 함수 'collatz()'를 완성하세요\n",
    "    \n",
    " >단! 500번을 넘어가도 1이 되지 않는 다면, -1 을 `return`할게요!\n",
    "    \n",
    "    예시)\n",
    "``` python\n",
    "collatz(6) # 8 \n",
    "collatz(16) #4\n",
    "collatz(6263313) #-1\n",
    "```"
   ]
  },
  {
   "cell_type": "code",
   "execution_count": 26,
   "metadata": {},
   "outputs": [
    {
     "data": {
      "text/plain": [
       "-1"
      ]
     },
     "execution_count": 26,
     "metadata": {},
     "output_type": "execute_result"
    }
   ],
   "source": [
    "def collatz(num):\n",
    "    \n",
    "    count = 0\n",
    "    \n",
    "    while num > 1:\n",
    "        if count > 500:\n",
    "            return -1\n",
    "        if num % 2 == 0:\n",
    "            num = num / 2\n",
    "    \n",
    "        elif num % 2 == 1:\n",
    "            num = num * 3 + 1\n",
    "        count += 1\n",
    "    \n",
    "    return count\n",
    "    \n",
    "collatz(626331)"
   ]
  },
  {
   "cell_type": "markdown",
   "metadata": {},
   "source": [
    "### 4. 솔로천국\n",
    "> 리스트가 주어질 때, 리스트의 요소 e는 range(0,10)에 포함되는 자연수이다. 리스트에서 연속적으로 나타나는 숫자는 하나만 남기고 전부 제거하여 return하는 함수 lonely()를 작성해 보세요. 이때 ! 제거된 후 남은 수들을 반환할 때는 리스트의 요소들이 순서를 유지해야합니다.\n",
    "\n",
    "lonely([1,1,3,3,0,1,1,3,0,3]) #[1,3,0]\n",
    "lonely([4,4,3,3,3,4]) #[4,3]"
   ]
  },
  {
   "cell_type": "code",
   "execution_count": 13,
   "metadata": {},
   "outputs": [
    {
     "data": {
      "text/plain": [
       "[1, 3, 0]"
      ]
     },
     "execution_count": 13,
     "metadata": {},
     "output_type": "execute_result"
    }
   ],
   "source": [
    "def lonely(my_list):\n",
    "    result = []\n",
    "    for i in my_list:\n",
    "        if i not in result:\n",
    "            result.append(i)\n",
    "        \n",
    "    return result\n",
    "\n",
    "lonely([1,1,3,3,0,1,1,3,0,3])\n"
   ]
  },
  {
   "cell_type": "code",
   "execution_count": 16,
   "metadata": {},
   "outputs": [
    {
     "data": {
      "text/plain": [
       "[1, 3, 0]"
      ]
     },
     "execution_count": 16,
     "metadata": {},
     "output_type": "execute_result"
    }
   ],
   "source": [
    "def lonely(numbers):\n",
    "    result = []\n",
    "    for number in numbers:\n",
    "        if not result:\n",
    "            result.append(number)\n",
    "        elif result[-1] != number:\n",
    "            if result.count(number) == 0:\n",
    "                result.append(number)\n",
    "        \n",
    "    return result\n",
    "\n",
    "lonely([1,1,3,3,0,1,1,3,0,3])"
   ]
  },
  {
   "cell_type": "code",
   "execution_count": 5,
   "metadata": {},
   "outputs": [
    {
     "ename": "IndexError",
     "evalue": "list index out of range",
     "output_type": "error",
     "traceback": [
      "\u001b[1;31m---------------------------------------------------------------------------\u001b[0m",
      "\u001b[1;31mIndexError\u001b[0m                                Traceback (most recent call last)",
      "\u001b[1;32m<ipython-input-5-8953d81b891b>\u001b[0m in \u001b[0;36m<module>\u001b[1;34m\u001b[0m\n\u001b[0;32m     14\u001b[0m \u001b[1;33m\u001b[0m\u001b[0m\n\u001b[0;32m     15\u001b[0m \u001b[1;33m\u001b[0m\u001b[0m\n\u001b[1;32m---> 16\u001b[1;33m \u001b[0mlonely\u001b[0m\u001b[1;33m(\u001b[0m\u001b[1;33m[\u001b[0m\u001b[1;36m1\u001b[0m\u001b[1;33m,\u001b[0m\u001b[1;36m1\u001b[0m\u001b[1;33m,\u001b[0m\u001b[1;36m3\u001b[0m\u001b[1;33m,\u001b[0m\u001b[1;36m3\u001b[0m\u001b[1;33m,\u001b[0m\u001b[1;36m0\u001b[0m\u001b[1;33m,\u001b[0m\u001b[1;36m1\u001b[0m\u001b[1;33m,\u001b[0m\u001b[1;36m1\u001b[0m\u001b[1;33m,\u001b[0m\u001b[1;36m3\u001b[0m\u001b[1;33m,\u001b[0m\u001b[1;36m0\u001b[0m\u001b[1;33m,\u001b[0m\u001b[1;36m3\u001b[0m\u001b[1;33m]\u001b[0m\u001b[1;33m)\u001b[0m\u001b[1;33m\u001b[0m\u001b[1;33m\u001b[0m\u001b[0m\n\u001b[0m\u001b[0;32m     17\u001b[0m \u001b[1;33m\u001b[0m\u001b[0m\n\u001b[0;32m     18\u001b[0m \u001b[1;33m\u001b[0m\u001b[0m\n",
      "\u001b[1;32m<ipython-input-5-8953d81b891b>\u001b[0m in \u001b[0;36mlonely\u001b[1;34m(jungbok)\u001b[0m\n\u001b[0;32m      4\u001b[0m     \u001b[1;32mfor\u001b[0m \u001b[0mi\u001b[0m \u001b[1;32min\u001b[0m \u001b[0mjungbok\u001b[0m\u001b[1;33m:\u001b[0m\u001b[1;33m\u001b[0m\u001b[1;33m\u001b[0m\u001b[0m\n\u001b[0;32m      5\u001b[0m         \u001b[0mhana\u001b[0m \u001b[1;33m+=\u001b[0m \u001b[1;33m[\u001b[0m\u001b[0mi\u001b[0m\u001b[1;33m]\u001b[0m\u001b[1;33m\u001b[0m\u001b[1;33m\u001b[0m\u001b[0m\n\u001b[1;32m----> 6\u001b[1;33m         \u001b[1;32mif\u001b[0m \u001b[0mhana\u001b[0m\u001b[1;33m[\u001b[0m\u001b[1;36m0\u001b[0m\u001b[1;33m]\u001b[0m \u001b[1;33m==\u001b[0m \u001b[0mhana\u001b[0m\u001b[1;33m[\u001b[0m\u001b[1;36m1\u001b[0m\u001b[1;33m]\u001b[0m\u001b[1;33m:\u001b[0m\u001b[1;33m\u001b[0m\u001b[1;33m\u001b[0m\u001b[0m\n\u001b[0m\u001b[0;32m      7\u001b[0m             \u001b[1;32mdel\u001b[0m \u001b[0mhana\u001b[0m\u001b[1;33m[\u001b[0m\u001b[1;36m1\u001b[0m\u001b[1;33m]\u001b[0m\u001b[1;33m\u001b[0m\u001b[1;33m\u001b[0m\u001b[0m\n\u001b[0;32m      8\u001b[0m \u001b[1;33m\u001b[0m\u001b[0m\n",
      "\u001b[1;31mIndexError\u001b[0m: list index out of range"
     ]
    }
   ],
   "source": [
    "def lonely(jungbok):\n",
    "    hana = []\n",
    "    final_hana = []\n",
    "    \n",
    "    for i in jungbok:\n",
    "        hana += [i] \n",
    "        \n",
    "        if hana[0] == hana[1]:\n",
    "            del hana[1]\n",
    "                \n",
    "        elif hana[0] != hana[1]:\n",
    "            final_hana += hana[0]\n",
    "            del hana[0]\n",
    "                \n",
    "        return final_hana\n",
    "        \n",
    "        \n",
    "lonely([1,1,3,3,0,1,1,3,0,3])\n",
    "\n",
    "        \n",
    "        "
   ]
  },
  {
   "cell_type": "code",
   "execution_count": null,
   "metadata": {},
   "outputs": [],
   "source": []
  },
  {
   "cell_type": "markdown",
   "metadata": {},
   "source": [
    "### 5. * RGB 삼각형\n",
    "\n",
    "| BG   | RG   | BR   | RR   | GG   | BB   |\n",
    "| ---- | ---- | ---- | ---- | ---- | ---- |\n",
    "| R    | B    | G    | R    | G    | B    |\n",
    "\n",
    ">입력으로 `'R', 'G', 'B'`가 섞여있는 문자열이 들어온다. 문자열은 다음과 같이 합쳐진다. 해당 문자열을 처리하여 마지막 색깔만 `return`하는 `triangle()`을 작성하세요.\n",
    "```\n",
    "R R G B R G B B\n",
    " R B R G B R B\n",
    "  G G B R G G\n",
    "   G R G B G\n",
    "    B B R R\n",
    "     B G R\n",
    "      R B\n",
    "       G\n",
    "```\n",
    "\n",
    "예시)\n",
    "```python\n",
    "triangle('RRGBRGBB')#G\n",
    "triangle('GB')#R\n",
    "triangle('B')#B\n",
    "triangle('RGBG')#B\n",
    "```"
   ]
  },
  {
   "cell_type": "code",
   "execution_count": 48,
   "metadata": {},
   "outputs": [
    {
     "ename": "SyntaxError",
     "evalue": "invalid syntax (<ipython-input-48-362d2cb31a6e>, line 8)",
     "output_type": "error",
     "traceback": [
      "\u001b[1;36m  File \u001b[1;32m\"<ipython-input-48-362d2cb31a6e>\"\u001b[1;36m, line \u001b[1;32m8\u001b[0m\n\u001b[1;33m    return color[index] += 'R'\u001b[0m\n\u001b[1;37m                         ^\u001b[0m\n\u001b[1;31mSyntaxError\u001b[0m\u001b[1;31m:\u001b[0m invalid syntax\n"
     ]
    }
   ],
   "source": [
    "def triangle(color):\n",
    "    \n",
    "    list_color = []\n",
    "    for index, spell in enumerate(color):\n",
    "        list_color = color[index] + color[index+1]\n",
    "        if len(list_color) > 1:   #앞에 집을 하나 만들어줘서 넣어줘야함.\n",
    "            if color[index] + color[index+1] == 'BG' or 'RR' or 'GB':\n",
    "                return color[index] += 'R'\n",
    "                if color[index] + color[index+1] == 'RG' or 'BB' or 'GR':\n",
    "                    return color[index] +='B'\n",
    "                    if color[index] + color[index+1] == 'BR' or 'GG'or 'RB':\n",
    "                        return color[index] +='G'\n",
    "                  \n",
    "\n",
    "        elif list_color == 1:\n",
    "            return color[index]\n",
    "    \n",
    "triangle('RRGBRGBB')    "
   ]
  },
  {
   "cell_type": "code",
   "execution_count": 41,
   "metadata": {},
   "outputs": [
    {
     "name": "stdout",
     "output_type": "stream",
     "text": [
      "R\n",
      "R\n",
      "G\n",
      "B\n"
     ]
    }
   ],
   "source": [
    "a = 'RRGB'\n",
    "for index, spell in enumerate(a):\n",
    "    print(a[index:index+1])"
   ]
  },
  {
   "cell_type": "code",
   "execution_count": 31,
   "metadata": {},
   "outputs": [
    {
     "data": {
      "text/plain": [
       "3"
      ]
     },
     "execution_count": 31,
     "metadata": {},
     "output_type": "execute_result"
    }
   ],
   "source": [
    "\n",
    "\n",
    "triangle = 'RRGBRGBB'    \n",
    "\n",
    "triangle.count('R')"
   ]
  },
  {
   "cell_type": "code",
   "execution_count": null,
   "metadata": {},
   "outputs": [],
   "source": [
    "\n",
    "    "
   ]
  },
  {
   "cell_type": "markdown",
   "metadata": {},
   "source": [
    "### 6. (??)홀수개를 찾아라\n",
    "\n",
    ">입력으로 list가 한개 들어옵니다. 이 list에는 1개의 숫자만 홀수개 들어있습니다.\n",
    "이 1개의 홀수개인 숫자를 return하는 find_odd()를 작성하세요\n",
    "\n",
    "\n",
    "예시) \n",
    "find_odd([1,1,2,2,3,3,3]) #3\n",
    "find_odd([2,1,2,])  #1\n",
    "find_odd([1,2,2,3,2,2,1])  #3"
   ]
  },
  {
   "cell_type": "code",
   "execution_count": 9,
   "metadata": {},
   "outputs": [
    {
     "data": {
      "text/plain": [
       "3"
      ]
     },
     "execution_count": 9,
     "metadata": {},
     "output_type": "execute_result"
    }
   ],
   "source": [
    "from operator import xor\n",
    "\n",
    "def find_odd_1(numbers):\n",
    "    for uniq in list(set(numbers)):\n",
    "        if numbers.count(uniq) % 2:\n",
    "            return uniq\n",
    "        \n",
    "\n",
    "\n",
    "\n",
    "def find_odd_2(numbers):\n",
    "    result = 0\n",
    "    for n in numbers:\n",
    "        result = result ^ n \n",
    "        \n",
    "    return result\n",
    "\n",
    "\n",
    "find_odd_2([1,1,2,2,3,3,3])"
   ]
  }
 ],
 "metadata": {
  "kernelspec": {
   "display_name": "Python 3",
   "language": "python",
   "name": "python3"
  },
  "language_info": {
   "codemirror_mode": {
    "name": "ipython",
    "version": 3
   },
   "file_extension": ".py",
   "mimetype": "text/x-python",
   "name": "python",
   "nbconvert_exporter": "python",
   "pygments_lexer": "ipython3",
   "version": "3.6.7"
  }
 },
 "nbformat": 4,
 "nbformat_minor": 2
}
