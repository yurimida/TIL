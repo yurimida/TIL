{
 "cells": [
  {
   "cell_type": "markdown",
   "metadata": {},
   "source": [
    "# 시작하기전에\n",
    "\n",
    "<wikipedia - 객체지향 프로그래밍> \n",
    ">\n",
    "> 객체 지향 프로그래밍(영어: Object-Oriented Programming, OOP)은 컴퓨터 프 로그래밍의 패러다임의 하나이다. 객체 지향 프로그래밍은 컴퓨터 프로그램을 명령어의 목록으로 보는 시각에서 벗어나 여러 개의 독립된 단위, 즉 \"객체\"들의 모임으로 파악하고자 하는 것이다. 각각의 객체는 메시지를 주고받고, 데이터를 처리할 수 있다.\n",
    ">\n",
    "> 명령형 프로그래밍인 절차지향 프로그래밍에서 발전된 형태를 나타내며, 기본 구성요소는 다음과 같다.\n",
    "\n",
    "* 클래스(Class) - 같은 종류(또는 문제 해결을 위한)의 집단에 속하는 속성(attribute)과 행위(behavior)를 정의한 것으로 객체지향 프로그램의 기본적인 사용자 정의 데이터형(user define data type)이라고 할 수 있다. 클래스는 프로그래머가 아니지만 해결해야 할 문제가 속하는 영역에 종사하는 사람이라면 사용할 수 있고, 다른 클래스 또는 외부 요소와 독립적으로 디자인하여야 한다.\n",
    "\n",
    "\n",
    "* 인스턴스 - 클래스의 인스턴스(실제로 메모리상에 할당된 것)이다. 객체는 자신 고유의 속성(attribute)을 가지며 클래스에서 정의한 행위(behavior)를 수행할 수 있다. 객체의 행위는 클래스에 정의된 행위에 대한 정의를 공유함으로써 메모리를 경제적으로 사용한다.\n",
    "\n",
    "\n",
    "* 메서드(Method) - 클래스로부터 생성된 객체를 사용하는 방법으로서 객체에 명령을 내리는 것이라 할 수 있다. 메서드는 한 객체의 속성을 조작하는 데 사용된다."
   ]
  },
  {
   "cell_type": "code",
   "execution_count": 4,
   "metadata": {},
   "outputs": [
    {
     "name": "stdout",
     "output_type": "stream",
     "text": [
      "(-7+24j)\n"
     ]
    }
   ],
   "source": [
    "# 복소수를 하나 만들어보고, 타입을 출력해봅시다.\n",
    "\n",
    "img_number = 3 + 4j  # 제곱했는데 음수가 되는 수 \n",
    "print(img_number ** 2)"
   ]
  },
  {
   "cell_type": "code",
   "execution_count": 5,
   "metadata": {},
   "outputs": [
    {
     "name": "stdout",
     "output_type": "stream",
     "text": [
      "3.0\n",
      "4.0\n"
     ]
    }
   ],
   "source": [
    "# 허수부랑 실수부를 함께 출력해봅시다.\n",
    "print(img_number.real)\n",
    "print(img_number.imag)"
   ]
  },
  {
   "cell_type": "code",
   "execution_count": 7,
   "metadata": {},
   "outputs": [
    {
     "name": "stdout",
     "output_type": "stream",
     "text": [
      "<built-in method sort of list object at 0x000001F07540AB88>\n"
     ]
    }
   ],
   "source": [
    "# 리스트를 하나 만들고 정렬해봅시다.\n",
    "\n",
    "a = [3, 2, 1]\n",
    "a.sort()\n",
    "print(a.sort)"
   ]
  },
  {
   "cell_type": "code",
   "execution_count": 8,
   "metadata": {},
   "outputs": [
    {
     "name": "stdout",
     "output_type": "stream",
     "text": [
      "['__add__', '__class__', '__contains__', '__delattr__', '__delitem__', '__dir__', '__doc__', '__eq__', '__format__', '__ge__', '__getattribute__', '__getitem__', '__gt__', '__hash__', '__iadd__', '__imul__', '__init__', '__init_subclass__', '__iter__', '__le__', '__len__', '__lt__', '__mul__', '__ne__', '__new__', '__reduce__', '__reduce_ex__', '__repr__', '__reversed__', '__rmul__', '__setattr__', '__setitem__', '__sizeof__', '__str__', '__subclasshook__', 'append', 'clear', 'copy', 'count', 'extend', 'index', 'insert', 'pop', 'remove', 'reverse', 'sort']\n"
     ]
    }
   ],
   "source": [
    "# list class의 object들이 할 수 있는 것들을 알아봅시다.\n",
    "print(dir(list))"
   ]
  },
  {
   "cell_type": "markdown",
   "metadata": {},
   "source": [
    "## Turtle\n",
    "> 거북이 클래스로 OOP 배우기 \n"
   ]
  },
  {
   "cell_type": "code",
   "execution_count": 1,
   "metadata": {},
   "outputs": [],
   "source": [
    "import turtle\n"
   ]
  },
  {
   "cell_type": "code",
   "execution_count": 1,
   "metadata": {},
   "outputs": [
    {
     "ename": "NameError",
     "evalue": "name 'turtle' is not defined",
     "output_type": "error",
     "traceback": [
      "\u001b[1;31m---------------------------------------------------------------------------\u001b[0m",
      "\u001b[1;31mNameError\u001b[0m                                 Traceback (most recent call last)",
      "\u001b[1;32m<ipython-input-1-81b76738a134>\u001b[0m in \u001b[0;36m<module>\u001b[1;34m\u001b[0m\n\u001b[1;32m----> 1\u001b[1;33m \u001b[0mturtle\u001b[0m\u001b[1;33m.\u001b[0m\u001b[0mScreen\u001b[0m\u001b[1;33m(\u001b[0m\u001b[1;33m)\u001b[0m\u001b[1;33m\u001b[0m\u001b[1;33m\u001b[0m\u001b[0m\n\u001b[0m",
      "\u001b[1;31mNameError\u001b[0m: name 'turtle' is not defined"
     ]
    }
   ],
   "source": [
    "turtle.Screen()"
   ]
  },
  {
   "cell_type": "code",
   "execution_count": 2,
   "metadata": {},
   "outputs": [
    {
     "ename": "TypeError",
     "evalue": "submit() takes 1 positional argument but 2 were given",
     "output_type": "error",
     "traceback": [
      "\u001b[1;31m---------------------------------------------------------------------------\u001b[0m",
      "\u001b[1;31mTypeError\u001b[0m                                 Traceback (most recent call last)",
      "\u001b[1;32m<ipython-input-2-f3d23bc9c01a>\u001b[0m in \u001b[0;36m<module>\u001b[1;34m\u001b[0m\n\u001b[0;32m     13\u001b[0m \u001b[0mform_neo\u001b[0m\u001b[1;33m.\u001b[0m\u001b[0mphone\u001b[0m \u001b[1;33m=\u001b[0m \u001b[1;34m'01123135'\u001b[0m\u001b[1;33m\u001b[0m\u001b[1;33m\u001b[0m\u001b[0m\n\u001b[0;32m     14\u001b[0m \u001b[0mform_neo\u001b[0m\u001b[1;33m.\u001b[0m\u001b[0mintro\u001b[0m \u001b[1;33m=\u001b[0m \u001b[1;34m'hphk'\u001b[0m\u001b[1;33m\u001b[0m\u001b[1;33m\u001b[0m\u001b[0m\n\u001b[1;32m---> 15\u001b[1;33m \u001b[0mform_neo\u001b[0m\u001b[1;33m.\u001b[0m\u001b[0msubmit\u001b[0m\u001b[1;33m(\u001b[0m\u001b[1;34m'황은석'\u001b[0m\u001b[1;33m)\u001b[0m\u001b[1;33m\u001b[0m\u001b[1;33m\u001b[0m\u001b[0m\n\u001b[0m\u001b[0;32m     16\u001b[0m \u001b[1;33m\u001b[0m\u001b[0m\n",
      "\u001b[1;31mTypeError\u001b[0m: submit() takes 1 positional argument but 2 were given"
     ]
    }
   ],
   "source": [
    "class Form:\n",
    "    name = ''\n",
    "    age = 0\n",
    "    phone = ''\n",
    "    intro = ''\n",
    "    def submit(teacher):\n",
    "        print(f'{teacher} 선생님에게 제출 하였습니다.')\n",
    "        \n",
    "\n",
    "form_neo = Form()\n",
    "form_neo.name = '유태영'\n",
    "form_neo.age = 100\n",
    "form_neo.phone = '01123135'\n",
    "form_neo.intro = 'hphk'\n",
    "form_neo.submit('황은석')\n",
    "\n",
    "form_tak = Form()\n",
    "form_tak.submit('쓰레기통')\n"
   ]
  },
  {
   "cell_type": "markdown",
   "metadata": {},
   "source": [
    "## 실습 문제\n",
    "\n",
    "> 프로그래밍으로 나와 친구의 이름을 저장해보세요.\n",
    ">\n",
    "\n",
    "**각자의 명함과 지갑을 만들어봅시다.**\n",
    "\n",
    "* 내 생일, 전화번호, 이메일주소 정보를 담은 변수를 확인해봅시다.\n",
    "\n",
    "* 주머니(pocket)에는 돈(won)을 포함하여 현재 가지고 있는 것을 작성해보세요.\n",
    "\n",
    "* 나는 인사를 하면서 내 명함에 있는 정보 하나를 이야기합니다. `greeting` 함수를 만듭시다.\n",
    "\n",
    "* 나는 주머니에 원하는 것과 갯수를 지정하여 넣을 수 있습니다. \n",
    "\n",
    "  기존에 값이 있으면, 갯수를 추가하고 없으면 새로 만드는 `in_my_pocket` 함수를 만듭시다.\n",
    "  \n",
    "**친구의 정보와 지갑도 만들어봅시다.**"
   ]
  },
  {
   "cell_type": "code",
   "execution_count": 15,
   "metadata": {},
   "outputs": [
    {
     "name": "stdout",
     "output_type": "stream",
     "text": [
      "Hi, 내이름은 이유림 이야. \n",
      "    전화번호는 01093882068 이야. \n",
      "    이메일은 yurimida@hi.com 이야. \n"
     ]
    },
    {
     "data": {
      "text/plain": [
       "{'money': 1000, 'candy': 3, '핸드크림': 1}"
      ]
     },
     "execution_count": 15,
     "metadata": {},
     "output_type": "execute_result"
    }
   ],
   "source": [
    "# 아래에 자유롭게 코드를 작성해보세요.\n",
    "\n",
    "my_info = { \n",
    "    'name' : '이유림',\n",
    "    'number' : '01093882068',\n",
    "    'email' : 'yurimida@hi.com'\n",
    "\n",
    "}\n",
    "\n",
    "my_pocket = { \n",
    "    'money' : 1000,\n",
    "    'candy' : 3\n",
    "    \n",
    "}\n",
    "\n",
    "def greeting(info):\n",
    "    print(f'Hi, 내이름은 {info[\"name\"]} 이야. ')\n",
    "    print(f'    전화번호는 {info[\"number\"]} 이야. ')\n",
    "    print(f'    이메일은 {info[\"email\"]} 이야. ')\n",
    "          \n",
    "          \n",
    "def in_my_pocket(pocket, stuff, count):\n",
    "          if pocket.get(stuff):\n",
    "              pocket[stuff] += count \n",
    "          \n",
    "          else:\n",
    "              pocket[stuff] =count\n",
    "          \n",
    "          return pocket\n",
    "          \n",
    "          \n",
    "greeting(my_info)\n",
    "          \n",
    "          \n",
    "in_my_pocket(my_pocket, '핸드크림', 1)"
   ]
  },
  {
   "cell_type": "code",
   "execution_count": null,
   "metadata": {},
   "outputs": [],
   "source": [
    "YR = {\n",
    "    'name': '이유림'\n",
    "    'github': 'yurimida'\n",
    "    'blood_type': 'A형'\n",
    "    'phone' : '01093882068'\n",
    "    \n",
    "}\n",
    "\n",
    "\n",
    "DR = {\n",
    "    \"name': '곽동령',  \n",
    "    'github': 'ryungs',\n",
    "    'blood_type' : 'A형',\n",
    "    'phone' : '01031312800'\n",
    "}     \n",
    "        \n",
    "    \n",
    "JO = {\n",
    "'name' : '백지원',\n",
    "'phone' : '01086069672',\n",
    "'github': 'helloddkd'\n",
    "}\n",
    "\n",
    "\n",
    "def arrive(mate):\n",
    "    if mate['name'] == '유태영':\n",
    "        print('1.화장실에 간다.')\n",
    "        print('2.출석을 찍는다.')\n",
    "        print('3.물을 뜬다.')\n",
    "        \n",
    "        \n",
    "arrive(yu)"
   ]
  },
  {
   "cell_type": "code",
   "execution_count": 5,
   "metadata": {},
   "outputs": [
    {
     "name": "stdout",
     "output_type": "stream",
     "text": [
      "이유림\n"
     ]
    }
   ],
   "source": [
    "mates = {\n",
    "\n",
    "'YR' : {\n",
    "    'name': '이유림',\n",
    "    'github': 'yurimida',\n",
    "    'blood_type': 'A형',\n",
    "    'phone' : '01093882068'\n",
    "    \n",
    "},\n",
    "    \n",
    "'DR' : {\n",
    "    'name': '곽동령',  \n",
    "    'github': 'ryungs',\n",
    "    'blood_type' : 'A형',\n",
    "    'phone' : '01031312800'\n",
    "},     \n",
    "    \n",
    "'JO' : {\n",
    "    'name' : '백지원',\n",
    "    'phone' : '01086069672',\n",
    "    'github': 'helloddkd',\n",
    "    'blood_type' : 'B형'\n",
    "}\n",
    "\n",
    "}\n",
    "\n",
    "\n",
    "print(mates['Lee']['name'])\n",
    "        \n"
   ]
  },
  {
   "cell_type": "code",
   "execution_count": 83,
   "metadata": {},
   "outputs": [
    {
     "name": "stdout",
     "output_type": "stream",
     "text": [
      "안녕하세요! 제 이름은 이유림 입니다.\n",
      " 제 github id는 yurimida이고, 혈액형을 A형 입니다.\n",
      "이유림 A yurimida\n",
      "이유림는 도착하면 화장실를 갑니다\n",
      "3 703 True\n",
      "안녕하세요! 제 이름은 곽동령 입니다.\n",
      " 제 github id는 ryungs이고, 혈액형을 A형 입니다.\n",
      "곽동령 A ryungs\n",
      "곽동령는 도착하면 화장실를 갑니다\n",
      "안녕하세요! 제 이름은 백지원 입니다.\n",
      " 제 github id는 helloddkd이고, 혈액형을 B형 입니다.\n",
      "백지원 B helloddkd\n",
      "백지원는 도착하면 화장실를 갑니다\n"
     ]
    }
   ],
   "source": [
    "class Mate:\n",
    "    classroom = 703\n",
    "    ban = 3\n",
    "    breath = True\n",
    "    def __init__(self, name, github, blood, arrive):\n",
    "        self.name = name\n",
    "        self.blood = blood\n",
    "        self.github = github\n",
    "        self.arrive = arrive\n",
    "        \n",
    "    def get_info(self):\n",
    "        print(f'안녕하세요! 제 이름은 {self.name} 입니다.')\n",
    "        print(f' 제 github id는 {self.github}이고, 혈액형을 {self.blood}형 입니다.')\n",
    "        print(self.name, self.blood, self.github)\n",
    "        \n",
    "    def dochack(self):\n",
    "        print(f'{self.name}는 도착하면 {self.arrive}를 갑니다')\n",
    "        \n",
    "YR = Mate('이유림','yurimida','A','화장실')\n",
    "YR.get_info()\n",
    "YR.dochack()\n",
    "print(YR.ban,YR.classroom,YR.breath)\n",
    "\n",
    "\n",
    "DR = Mate('곽동령','ryungs','A','화장실')\n",
    "DR.get_info()\n",
    "DR.dochack()\n",
    "\n",
    "\n",
    "JO = Mate('백지원','helloddkd','B','화장실')\n",
    "JO.get_info()\n",
    "JO.dochack()"
   ]
  },
  {
   "cell_type": "code",
   "execution_count": 14,
   "metadata": {},
   "outputs": [
    {
     "name": "stdout",
     "output_type": "stream",
     "text": [
      "True\n",
      "한글자만 넣어라: a\n",
      "오 맞음!\n"
     ]
    },
    {
     "data": {
      "text/plain": [
       "True"
      ]
     },
     "execution_count": 14,
     "metadata": {},
     "output_type": "execute_result"
    }
   ],
   "source": [
    "class Text:\n",
    "    content = \"\"\n",
    "    def __init__(self, content):\n",
    "        self.content = content\n",
    "        \n",
    "        \n",
    "    def is_palindrome(self):\n",
    "        \n",
    "        txt = self.content.replace(' ', '').lower()\n",
    "        \n",
    "        return txt == ''.join(reversed(txt))\n",
    "    \n",
    "    \n",
    "    def start_hangman(self):\n",
    "        guess = input('한글자만 넣어라: ')\n",
    "        if guess in self.content:\n",
    "            print('오 맞음!')\n",
    "            return True\n",
    "            \n",
    "        else:\n",
    "            print('ㅋㅋㅋㅋ')\n",
    "            return False\n",
    "        \n",
    "        \n",
    "    \n",
    "        \n",
    "        \n",
    "        \n",
    "my_text = Text('A santa at NASA')\n",
    "\n",
    "print(my_text.is_palindrome())\n",
    "\n",
    "your_text = Text('apple')\n",
    "your_text.start_hangman()\n",
    "\n"
   ]
  },
  {
   "cell_type": "code",
   "execution_count": null,
   "metadata": {},
   "outputs": [],
   "source": [
    "# in_my_pocket 함수를 통해 내 주머니에 내용을 추가해봅시다."
   ]
  },
  {
   "cell_type": "code",
   "execution_count": null,
   "metadata": {},
   "outputs": [],
   "source": [
    "# greeting 함수를 통해 인사를 해봅시다.\n",
    "#=> 안녕, kim이야. 01012345678"
   ]
  },
  {
   "cell_type": "markdown",
   "metadata": {},
   "source": [
    "# 클래스 및 인스턴스"
   ]
  },
  {
   "cell_type": "markdown",
   "metadata": {},
   "source": [
    "## 클래스 객체\n",
    "\n",
    "```python\n",
    "class ClassName:\n",
    "    \n",
    "```\n",
    "\n",
    "* 선언과 동시에 클래스 객체가 생성됨.\n",
    "\n",
    "* 또한, 선언된 공간은 지역 스코프로 사용된다.\n",
    "\n",
    "* 정의된 어트리뷰트 중 변수는 멤버 변수로 불리운다.\n",
    "\n",
    "* 정의된 함수(`def`)는 메서드로 불리운다."
   ]
  },
  {
   "cell_type": "code",
   "execution_count": 19,
   "metadata": {},
   "outputs": [
    {
     "name": "stdout",
     "output_type": "stream",
     "text": [
      "<class 'type'>\n",
      "<class '__main__.TestClass'>\n",
      "\n",
      "    This is Test Class\n",
      "    \n"
     ]
    }
   ],
   "source": [
    "# class를 만들어봅시다.\n",
    "\n",
    "class TestClass:\n",
    "    \"\"\"\n",
    "    This is Test Class\n",
    "    \"\"\"\n",
    "    \n",
    "    \n",
    "print(type(TestClass))\n",
    "\n",
    "\n",
    "tc = TestClass()\n",
    "print(type(tc))\n",
    "print(tc.__doc__)"
   ]
  },
  {
   "cell_type": "code",
   "execution_count": 65,
   "metadata": {},
   "outputs": [
    {
     "name": "stdout",
     "output_type": "stream",
     "text": [
      "HELLO!\n"
     ]
    },
    {
     "data": {
      "text/plain": [
       "'홍길동'"
      ]
     },
     "execution_count": 65,
     "metadata": {},
     "output_type": "execute_result"
    }
   ],
   "source": [
    "# Person 클래스를 만들어봅시다.\n",
    "\n",
    "class Person:\n",
    "    name = '홍길동'\n",
    "    \n",
    "    def say_hi(self):\n",
    "        print('HELLO!')\n",
    "        \n",
    "    def intro(self):\n",
    "        print(f'I am {self.name}')\n",
    "        \n",
    "P = Person()\n",
    "P.say_hi()\n",
    "P.name"
   ]
  },
  {
   "cell_type": "markdown",
   "metadata": {},
   "source": [
    "* 선언시 self는 반드시 작성해주세요! 나중에 설명드립니다."
   ]
  },
  {
   "cell_type": "markdown",
   "metadata": {},
   "source": [
    "\n",
    "\n",
    "\n",
    "## 인스턴스 객체\n",
    "\n",
    "* 인스턴스 객체는 `ClassName()`을 호출함으로써 선언된다.\n",
    "\n",
    "* 인스턴스 객체와 클래스 객체는 서로 다른 이름 공간을 가지고 있다.\n",
    "\n",
    "* 인스턴스 -> 클래스 -> 전역 순으로 탐색을 한다."
   ]
  },
  {
   "cell_type": "code",
   "execution_count": 66,
   "metadata": {},
   "outputs": [],
   "source": [
    "# iu라는 클래스 Person의 인스턴스를 만들어봅시다. \n",
    "\n",
    "iu = Person()"
   ]
  },
  {
   "cell_type": "code",
   "execution_count": 67,
   "metadata": {},
   "outputs": [
    {
     "name": "stdout",
     "output_type": "stream",
     "text": [
      "HELLO!\n"
     ]
    }
   ],
   "source": [
    "# 인사하는 메서드를 호출해봅시다.\n",
    "iu.say_hi()"
   ]
  },
  {
   "cell_type": "code",
   "execution_count": 68,
   "metadata": {},
   "outputs": [
    {
     "data": {
      "text/plain": [
       "'홍길동'"
      ]
     },
     "execution_count": 68,
     "metadata": {},
     "output_type": "execute_result"
    }
   ],
   "source": [
    "# iu의 이름을 확인해봅시다.\n",
    "iu.name"
   ]
  },
  {
   "cell_type": "code",
   "execution_count": 69,
   "metadata": {},
   "outputs": [
    {
     "name": "stdout",
     "output_type": "stream",
     "text": [
      "IU\n"
     ]
    }
   ],
   "source": [
    "# iu로 이름을 바꿔주세요.\n",
    "iu.name = 'IU'\n",
    "print(iu.name)"
   ]
  },
  {
   "cell_type": "code",
   "execution_count": 70,
   "metadata": {},
   "outputs": [
    {
     "name": "stdout",
     "output_type": "stream",
     "text": [
      "I am IU\n"
     ]
    }
   ],
   "source": [
    "# iu가 인사를 합니다.\n",
    "iu.intro()"
   ]
  },
  {
   "cell_type": "code",
   "execution_count": null,
   "metadata": {},
   "outputs": [],
   "source": [
    "# iu와 Person이 같은지 확인해보겠습니다.\n",
    "\n",
    "isinstance(iu,Person)\n",
    "\n",
    "# if isinstance(user_input, str):\n",
    "\n",
    "isinstance([], list)"
   ]
  },
  {
   "cell_type": "code",
   "execution_count": 72,
   "metadata": {},
   "outputs": [
    {
     "data": {
      "text/plain": [
       "True"
      ]
     },
     "execution_count": 72,
     "metadata": {},
     "output_type": "execute_result"
    }
   ],
   "source": [
    "# iu와 Person이 같은지 확인해보겠습니다.\n",
    "type(iu) == Person\n",
    "type('a') == str"
   ]
  },
  {
   "cell_type": "code",
   "execution_count": 73,
   "metadata": {},
   "outputs": [
    {
     "name": "stdout",
     "output_type": "stream",
     "text": [
      "<__main__.Person object at 0x0000026A72F989B0>\n"
     ]
    }
   ],
   "source": [
    "# iu를 출력해봅시다.\n",
    "\n",
    "print(iu)"
   ]
  },
  {
   "cell_type": "code",
   "execution_count": 74,
   "metadata": {},
   "outputs": [
    {
     "data": {
      "text/plain": [
       "<__main__.Person at 0x26a72f989b0>"
      ]
     },
     "execution_count": 74,
     "metadata": {},
     "output_type": "execute_result"
    }
   ],
   "source": [
    "# iu를 출력해봅시다 2.\n",
    "\n",
    "iu  #iu라는 객체는 어딘가에 고정."
   ]
  },
  {
   "cell_type": "code",
   "execution_count": 75,
   "metadata": {},
   "outputs": [
    {
     "data": {
      "text/plain": [
       "__main__.Person"
      ]
     },
     "execution_count": 75,
     "metadata": {},
     "output_type": "execute_result"
    }
   ],
   "source": [
    "# type을 확인해봅시다.\n",
    "type(iu)"
   ]
  },
  {
   "cell_type": "markdown",
   "metadata": {},
   "source": [
    "* 파이썬 출력의 비밀 : repr, str"
   ]
  },
  {
   "cell_type": "code",
   "execution_count": 76,
   "metadata": {},
   "outputs": [],
   "source": [
    "# 강다니엘을 만들어봅시다.\n",
    "\n",
    "강다니엘 = Person()"
   ]
  },
  {
   "cell_type": "code",
   "execution_count": 79,
   "metadata": {},
   "outputs": [
    {
     "name": "stdout",
     "output_type": "stream",
     "text": [
      "홍길동\n",
      "Daniel\n"
     ]
    }
   ],
   "source": [
    "# 강다니엘을 출력해봅시다.\n",
    "\n",
    "\n",
    "print(강다니엘.name)\n",
    "\n",
    "강다니엘.name = 'Daniel'\n",
    "print(강다니엘.name)"
   ]
  },
  {
   "cell_type": "markdown",
   "metadata": {},
   "source": [
    "## 실습 문제 발전\n",
    "\n",
    "> 지금까지 배운 것을 통해서 Person 클래스를 만들고, 친구와 나를 표현해봅시다.\n",
    ">\n",
    "> 주머니와 정보를 가지고 있고 (멤버 변수)\n",
    "> \n",
    "> 인사(`greeting()`)와 주머니에 내용을 추가(`in_my_pocket()`)할 수 있습니다. (메서드)\n",
    ">\n",
    "> 추가적으로 `get_my_pocket()`으로 지갑에 담긴 정보를 가져와 봅시다.\n",
    ">\n",
    "> 그리고 사람을 출력하면, 지갑을 제외한 정보를 보여줘보세요. "
   ]
  },
  {
   "cell_type": "code",
   "execution_count": null,
   "metadata": {},
   "outputs": [],
   "source": [
    "# 아래에 코드를 작성해주세요.    "
   ]
  },
  {
   "cell_type": "markdown",
   "metadata": {},
   "source": [
    "## MyList만들기\n",
    "\n",
    "> 이제 배운 것을 활용하여 나만의 리스트 객체를 만들 수 있습니다. \n",
    ">\n",
    "> `class MyList:`\n",
    ">\n",
    "\n",
    "```\n",
    "* 변수\n",
    "data : 비어 있는 리스트\n",
    "\n",
    "* 메서드 \n",
    "append : 값을 받아 추가합니다.\n",
    "pop : 마지막에 있는 값을 없애고, 해당 값을 리턴합니다.\n",
    "reverse : 제자리에서 뒤집고 리턴 값은 없습니다.\n",
    "count(x) : x의 갯수를 반환합니다.\n",
    "clear : 값을 모두 삭제합니다.\n",
    "\n",
    "__repr__ : ex) '리스트 내용 1, 2, 3'\n",
    "```"
   ]
  },
  {
   "cell_type": "code",
   "execution_count": null,
   "metadata": {},
   "outputs": [],
   "source": [
    "# 아래에 코드를 작성해주세요."
   ]
  },
  {
   "cell_type": "markdown",
   "metadata": {},
   "source": [
    "## 자유롭게 만들어보기\n",
    "\n",
    "> 이 세상에 있는 무엇인가를 자유롭게 표현해주세요."
   ]
  },
  {
   "cell_type": "code",
   "execution_count": 93,
   "metadata": {},
   "outputs": [
    {
     "name": "stdout",
     "output_type": "stream",
     "text": [
      "80\n"
     ]
    }
   ],
   "source": [
    "# 아래에 코드를 작성해주세요.\n",
    "\n",
    "class Pokemon:\n",
    "    def __init__ (self, name, level):  # __init__포켓몬 객체를 만드는 순간에 \n",
    "        self.name = name              # self 객체인 스스로의 무엇 ex) 내 이름 내 나이 내 무엇\n",
    "        self.level = level\n",
    "        self.hp = level * 10\n",
    "    \n",
    "    def set_hp(self, point):\n",
    "        self.hp += point \n",
    "        \n",
    "\n",
    "    def check_status(self):\n",
    "        if self.hp > 0:\n",
    "            return True\n",
    "        else:\n",
    "            return False\n",
    "        \n",
    "    def body_attack(self, enemy):\n",
    "        enemy.set_hp(-self.level) \n",
    "        \n",
    "    def volt_attack(self, enemy):\n",
    "        enemy.set_hp(-15)\n",
    "        \n",
    "    \n",
    "a = Pokemon('피카츄1', 10)\n",
    "b = Pokemon('피카츄2', 9)\n",
    "\n",
    "import random\n",
    "while a.check_status and b.check_status:\n",
    "        \n",
    "\n",
    "if a.check_status():\n",
    "    a.body_attack(b)\n",
    "    print(b.hp)\n",
    "\n",
    "else:\n",
    "    print(f'{b.name}의 승리!')"
   ]
  },
  {
   "cell_type": "code",
   "execution_count": null,
   "metadata": {},
   "outputs": [],
   "source": [
    "a = pokemon('피카츄',10)\n",
    "b = pokemon('치코리타',5) ' grass'\n",
    "c = pokemon('삐삐',9) 'normal'\n",
    "d = pokemon('망나뇽',30) 'dragon'"
   ]
  }
 ],
 "metadata": {
  "kernelspec": {
   "display_name": "Python 3",
   "language": "python",
   "name": "python3"
  },
  "language_info": {
   "codemirror_mode": {
    "name": "ipython",
    "version": 3
   },
   "file_extension": ".py",
   "mimetype": "text/x-python",
   "name": "python",
   "nbconvert_exporter": "python",
   "pygments_lexer": "ipython3",
   "version": "3.6.7"
  },
  "latex_envs": {
   "LaTeX_envs_menu_present": true,
   "autoclose": false,
   "autocomplete": true,
   "bibliofile": "biblio.bib",
   "cite_by": "apalike",
   "current_citInitial": 1,
   "eqLabelWithNumbers": true,
   "eqNumInitial": 1,
   "hotkeys": {
    "equation": "Ctrl-E",
    "itemize": "Ctrl-I"
   },
   "labels_anchors": false,
   "latex_user_defs": false,
   "report_style_numbering": false,
   "user_envs_cfg": false
  },
  "toc": {
   "base_numbering": 1,
   "nav_menu": {},
   "number_sections": true,
   "sideBar": true,
   "skip_h1_title": false,
   "title_cell": "Table of Contents",
   "title_sidebar": "Contents",
   "toc_cell": false,
   "toc_position": {},
   "toc_section_display": true,
   "toc_window_display": false
  }
 },
 "nbformat": 4,
 "nbformat_minor": 2
}
