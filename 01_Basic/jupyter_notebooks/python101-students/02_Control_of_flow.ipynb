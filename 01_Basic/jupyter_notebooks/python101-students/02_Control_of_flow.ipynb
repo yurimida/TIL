{
 "cells": [
  {
   "cell_type": "markdown",
   "metadata": {
    "slideshow": {
     "slide_type": "slide"
    }
   },
   "source": [
    "# 조건문\n",
    "\n",
    "지금까지의 코드는 위에서부터 아래로 순차적으로 명령을 수행하는 프로그램을 작성하였다. \n",
    "\n",
    "제어문(Control of Flow)은 크게 반복문과 조건문으로 나눌 수 있고, 이는 순서도(Flow chart로 표현이 가능하다.)\n",
    "\n",
    "\n",
    "<center> \n",
    "    <img src=\"./images/02/if.png\", alt='if flowchart'/>\n",
    "</center>\n"
   ]
  },
  {
   "cell_type": "code",
   "execution_count": null,
   "metadata": {
    "scrolled": true,
    "slideshow": {
     "slide_type": "subslide"
    }
   },
   "outputs": [],
   "source": [
    "# 위의 flow chart로 표현하면 아래와 같다.\n",
    "\n",
    "a = 5\n",
    "\n",
    "if a > 5 : \n",
    "    print (\"5 초과\")\n",
    "    \n",
    "#elif a <= 5:\n",
    " #   print (\"5 이하\")\n",
    "    \n",
    "else:\n",
    "    print(\"5 이하\")\n",
    "    \n",
    "print(\"a 값:\", a)\n"
   ]
  },
  {
   "cell_type": "markdown",
   "metadata": {
    "slideshow": {
     "slide_type": "slide"
    }
   },
   "source": [
    "## 조건문 문법\n",
    "\n",
    "1. `if` 문은 반드시 일정한 참/거짓을 판단할 수 있는 `조건식`과 함께 사용이 되어야한다.\n",
    "`if <조건식>:`\n",
    "\n",
    "2-1. `<조건식>`이 참인 경우 `:` 이후의 문장을 수행한다.\n",
    "\n",
    "2-2. `<조건식>`이 거짓인 경우 `else:` 이후의 문장을 수행한다.\n",
    "\n",
    "* 이때 반드시 **들여쓰기를** 유의해야한다. \n",
    "파이썬에서는 코드 블록을 자바나 C언어의 `{}`와 달리 `들여쓰기`로 판단하기 때문이다.\n",
    "* 앞으로 우리는 `PEP-8`에서 권장하는 `4spaces`를 사용할 것이다.\n"
   ]
  },
  {
   "cell_type": "markdown",
   "metadata": {},
   "source": [
    "<center>\n",
    "    <img src=\"./images/02/if_style.png\", alt=\"if style\"/>\n",
    "</center>"
   ]
  },
  {
   "cell_type": "markdown",
   "metadata": {
    "slideshow": {
     "slide_type": "subslide"
    }
   },
   "source": [
    "<center><strong style=\"font-size: 40px;\">우리는 4spaces를 맞춰서 씁니다!</strong></center>\n",
    "<br>\n",
    "\n",
    "<center>\n",
    "    <img src=\"./images/02/spacetab.png\", alt=\"[space vs tab]\"/>\n",
    "</center>    \n",
    "\n",
    "\n",
    "\n",
    "\n",
    "[출처 : 400,000 GitHub repositories, 1 billion files, 14 terabytes of code: Spaces or Tabs?](https://medium.com/@hoffa/400-000-github-repositories-1-billion-files-14-terabytes-of-code-spaces-or-tabs-7cfe0b5dd7fd)\n"
   ]
  },
  {
   "cell_type": "markdown",
   "metadata": {},
   "source": [
    "### 실습문제1 - 조건문 기초 활용\n",
    "\n",
    "\n",
    "> **조건문을 통해 변수 num의 값과 홀수/짝수 여부를 출력하세요.**\n",
    "\n",
    "---\n",
    "\n",
    "```\n",
    "예시 출력)\n",
    "3\n",
    "홀수입니다.\n",
    "```"
   ]
  },
  {
   "cell_type": "markdown",
   "metadata": {},
   "source": [
    "### 실습문제 2\n",
    "> 아래 코드의 출력 결과를 예상해보세요."
   ]
  },
  {
   "cell_type": "code",
   "execution_count": null,
   "metadata": {},
   "outputs": [],
   "source": [
    "if True:\n",
    "    if False:\n",
    "        print(1)\n",
    "        print(2)\n",
    "        \n",
    "    else: \n",
    "        print(3)\n",
    "\n",
    "else:\n",
    "    print(4)\n",
    "\n",
    "print(5)\n",
    "\n",
    "#3 ?"
   ]
  },
  {
   "cell_type": "markdown",
   "metadata": {},
   "source": [
    "### 실습문제 3\n",
    "> 주머니에 5000원이 있다. 택시를 타려면 주머니에 4000원 이상 혹은 카드가 있어야한다.\n",
    "이때 택시를 탈수 있는지를 확인하는 코드를 짜보자."
   ]
  },
  {
   "cell_type": "code",
   "execution_count": null,
   "metadata": {},
   "outputs": [],
   "source": [
    "money = 3000\n",
    "card = False\n",
    "\n",
    "print('택시')  if money >= 4000 or card else print('BMW')"
   ]
  },
  {
   "cell_type": "code",
   "execution_count": null,
   "metadata": {},
   "outputs": [],
   "source": [
    "\n",
    "True, False\n",
    "\n",
    "def is_taxi(money,card):\n",
    "    if money >= 4000 or card == True:\n",
    "        return True\n",
    "    else:\n",
    "        return False\n",
    "    \n",
    "is_taxi(5000,False)\n"
   ]
  },
  {
   "cell_type": "code",
   "execution_count": null,
   "metadata": {
    "slideshow": {
     "slide_type": "subslide"
    }
   },
   "outputs": [],
   "source": [
    "# 실습!\n",
    "\n",
    "\n",
    "#number = input()\n",
    "#number = int(number)\n",
    "#print(number, type(number))\n",
    "\n",
    "num = int(input(\"점수를 입력하세요 : \"))\n",
    "\n",
    "if num % 2 == 0:\n",
    "    print(\"짝수\")\n",
    "\n",
    "else:\n",
    "    print(\"홀수\")"
   ]
  },
  {
   "cell_type": "markdown",
   "metadata": {
    "slideshow": {
     "slide_type": "slide"
    }
   },
   "source": [
    "## 복수 조건문\n",
    "\n",
    "2개 이상의 조건문을 활용할 경우 `elif <조건식>:`을 활용한다.\n",
    "<center>\n",
    "<img src=\"./images/02/elif.png\", alt=\"elif\">\n",
    "</center>"
   ]
  },
  {
   "cell_type": "markdown",
   "metadata": {
    "slideshow": {
     "slide_type": "subslide"
    }
   },
   "source": [
    "### 실습문제1 - 조건식 2개 이상 활용하기\n",
    "\n",
    "> 조건문을 통해 변수 score에 따른 평점을 출력하세요.\n",
    "\n",
    "|점수|등급|\n",
    "|---|---|\n",
    "|90점 이상|A|\n",
    "|80점 이상|B|\n",
    "|70점 이상|C|\n",
    "|60점 이상|D|\n",
    "|60점 미만|F|\n",
    "\n",
    "--- \n",
    "\n",
    "```\n",
    "예시 출력)\n",
    "B\n",
    "```"
   ]
  },
  {
   "cell_type": "markdown",
   "metadata": {
    "slideshow": {
     "slide_type": "-"
    }
   },
   "source": [
    "## 실습!\n",
    "\n",
    "score = int(input(\"점수를 입력하세요 : \"))\n",
    "\n",
    "if score >= 90 :\n",
    "    print(\"A등급\")\n",
    "\n",
    "elif score >= 80 :\n",
    "    print(\"B등급\")\n",
    "    \n",
    "elif score >= 70 :\n",
    "    print(\"C등급\")\n",
    "\n",
    "elif score >= 60 :\n",
    "    print(\"D등급\")\n",
    "    \n",
    "else :\n",
    "    print(\"F등급\")\n",
    "    \n"
   ]
  },
  {
   "cell_type": "code",
   "execution_count": null,
   "metadata": {},
   "outputs": [],
   "source": []
  },
  {
   "cell_type": "markdown",
   "metadata": {
    "slideshow": {
     "slide_type": "subslide"
    }
   },
   "source": [
    "### 실습문제3 - 중첩 조건문 활용\n",
    "\n",
    "> **위의 실습문제 2코드를 활용하여 \n",
    "95점 이상이면, \"참잘했어요\"를 함께 출력해주세요**\n",
    "\n",
    "--- \n",
    "\n",
    "```\n",
    "예시 출력)\n",
    "A\n",
    "참잘했어요\n",
    "```"
   ]
  },
  {
   "cell_type": "code",
   "execution_count": null,
   "metadata": {},
   "outputs": [],
   "source": [
    "# 실습!\n",
    "#score = 96\n",
    "\n",
    "\n",
    "score = int(input(\"점수를 입력하세요 : \"))\n",
    "\n",
    "if score >= 90 :\n",
    "    print(\"A등급\")\n",
    "    if score >= 95 :\n",
    "        print(\"참잘했어요\")\n",
    "\n",
    "elif score >= 80 :\n",
    "    print(\"B등급\")\n",
    "    \n",
    "elif score >= 70 :\n",
    "    print(\"C등급\")\n",
    "\n",
    "elif score >= 60 :\n",
    "    print(\"D등급\")\n",
    "    \n",
    "else :\n",
    "    print(\"F등급\")\n",
    "    \n"
   ]
  },
  {
   "cell_type": "code",
   "execution_count": null,
   "metadata": {},
   "outputs": [],
   "source": [
    "# FizzBuzz\n",
    "n = int(input('숫자를 입력하세요: '))\n",
    "for i in range(1, n + 1):\n",
    "    \n",
    "    \n",
    "    if i % 3 == 0 and i % 5 == 0 :\n",
    "        print ('FizzBuzz')\n",
    "        \n",
    "    elif i % 5 ==0 :\n",
    "        print ('Buzz')\n",
    "    \n",
    "    elif i % 3 == 0 :\n",
    "        print ('Fizz')\n",
    "        \n",
    "    else:\n",
    "        print(i)\n",
    "\n",
    "    \n",
    "# 3의 배수면, Fizz\n",
    "# 5의 배수면, Buzz\n",
    "# 3 과 5의 배수면, Fizz,Buzz\n",
    "\n"
   ]
  },
  {
   "cell_type": "markdown",
   "metadata": {},
   "source": [
    "### 실습문제\n",
    "\n",
    "> 정수 세개가 들어온다. 이때, 2번째로 큰 정수를 출력하라"
   ]
  },
  {
   "cell_type": "code",
   "execution_count": null,
   "metadata": {},
   "outputs": [],
   "source": [
    "a, b, c = 10, 15, 5\n",
    "\n",
    "\n",
    "\n",
    "def second_number(a, b, c):\n",
    "    if (a >= b >= c) or (c >= b >= a):\n",
    "       \n",
    "            return b\n",
    "    \n",
    "    elif (b >= a >= c) or (c >= a >= b):\n",
    "    \n",
    "            return a\n",
    "    \n",
    "    else:\n",
    "            return c\n",
    "\n",
    "        \n",
    "print(second_number(15,15,50))"
   ]
  },
  {
   "cell_type": "code",
   "execution_count": null,
   "metadata": {},
   "outputs": [],
   "source": [
    "def second_number(a, b, c):\n",
    "    if a > b and b > c:\n",
    "        return b\n",
    "    \n",
    "    elif b > a and a > c:\n",
    "        return a\n",
    "    \n",
    "    elif c > a and a > b:\n",
    "        return a\n",
    "    \n",
    "    elif a > c and c > b:\n",
    "        return c\n",
    "    \n",
    "    elif b > c and c > a:\n",
    "        return c\n",
    "    \n",
    "    elif c > b and b > a:\n",
    "        return b\n",
    "\n",
    "a_num = int(input(\"a를 입력하세요:\"))\n",
    "b_num = int(input(\"b를 입력하세요:\"))\n",
    "c_num = int(input(\"c를 입력하세요:\"))\n",
    "\n",
    "print(second_number(a_num,b_num,c_num))"
   ]
  },
  {
   "cell_type": "code",
   "execution_count": null,
   "metadata": {},
   "outputs": [],
   "source": [
    "def sec_num(*args):\n",
    "     \n",
    "    for i in args:\n",
    "       \n",
    "        list_num = i\n",
    "        \n",
    "        max_num = max(list_num)\n",
    "        \n",
    "    return(max_num)\n",
    "        \n",
    "find_max =sec_num(1,19,29,30)\n",
    "print(find_max)"
   ]
  },
  {
   "cell_type": "markdown",
   "metadata": {},
   "source": [
    "### 실습문제\n",
    "#### 환율계산\n",
    "> 사용자가 띄어쓰기를 기준으로 ,  (Volume  단위) 입력한다. 원화로 계산해서  print 해주주자.\n"
   ]
  },
  {
   "cell_type": "code",
   "execution_count": null,
   "metadata": {},
   "outputs": [],
   "source": [
    "#input = > 100 달러, 300 유로, 200 위안, 1000 엔 \n",
    "\n",
    "def currency_calculator(volume, unit):\n",
    "    currency = {\n",
    "    'USD' : 1167,\n",
    "    'JPY' : 1.096,\n",
    "    'EUR' : 1268,\n",
    "    'CNY' : 171\n",
    "}\n",
    "    if unit == '달러':\n",
    "        return currency['USD'] * volume\n",
    "    \n",
    "    elif unit == '유로':\n",
    "        return currency['EUR']* volume\n",
    "    \n",
    "    elif unit == '위안':\n",
    "        return currency['CNY'] * volume\n",
    "    \n",
    "    elif unit == '엔':\n",
    "        return currency['JPY'] * volume\n",
    "    \n",
    "    \n",
    "print(currency_calculator(200,'달러'))"
   ]
  },
  {
   "cell_type": "code",
   "execution_count": 6,
   "metadata": {},
   "outputs": [
    {
     "name": "stdout",
     "output_type": "stream",
     "text": [
      "volume와 unit을 입력하시오:100 달러\n"
     ]
    },
    {
     "ename": "TypeError",
     "evalue": "unsupported operand type(s) for +: 'int' and 'str'",
     "output_type": "error",
     "traceback": [
      "\u001b[1;31m---------------------------------------------------------------------------\u001b[0m",
      "\u001b[1;31mTypeError\u001b[0m                                 Traceback (most recent call last)",
      "\u001b[1;32m<ipython-input-6-4fcdb7b04b7c>\u001b[0m in \u001b[0;36m<module>\u001b[1;34m\u001b[0m\n\u001b[0;32m     21\u001b[0m \u001b[0mdon_int\u001b[0m \u001b[1;33m=\u001b[0m \u001b[0mint\u001b[0m\u001b[1;33m(\u001b[0m\u001b[0mdon\u001b[0m\u001b[1;33m)\u001b[0m\u001b[1;33m\u001b[0m\u001b[1;33m\u001b[0m\u001b[0m\n\u001b[0;32m     22\u001b[0m \u001b[0mdon_name_str\u001b[0m \u001b[1;33m=\u001b[0m \u001b[0mstr\u001b[0m\u001b[1;33m(\u001b[0m\u001b[0mdon_name\u001b[0m\u001b[1;33m)\u001b[0m\u001b[1;33m\u001b[0m\u001b[1;33m\u001b[0m\u001b[0m\n\u001b[1;32m---> 23\u001b[1;33m \u001b[0mprint\u001b[0m\u001b[1;33m(\u001b[0m\u001b[0mcurrency_calculator_bincan\u001b[0m\u001b[1;33m(\u001b[0m\u001b[0mdon_int\u001b[0m\u001b[1;33m,\u001b[0m \u001b[0mdon_name_str\u001b[0m\u001b[1;33m)\u001b[0m\u001b[1;33m)\u001b[0m\u001b[1;33m\u001b[0m\u001b[1;33m\u001b[0m\u001b[0m\n\u001b[0m",
      "\u001b[1;32m<ipython-input-6-4fcdb7b04b7c>\u001b[0m in \u001b[0;36mcurrency_calculator_bincan\u001b[1;34m(don_int, don_name_str)\u001b[0m\n\u001b[0;32m      7\u001b[0m }\n\u001b[0;32m      8\u001b[0m     \u001b[1;32mif\u001b[0m \u001b[0mdon_name\u001b[0m \u001b[1;33m==\u001b[0m \u001b[1;34m'달러'\u001b[0m\u001b[1;33m:\u001b[0m\u001b[1;33m\u001b[0m\u001b[1;33m\u001b[0m\u001b[0m\n\u001b[1;32m----> 9\u001b[1;33m         \u001b[1;32mreturn\u001b[0m \u001b[1;33m(\u001b[0m\u001b[0mcurrency\u001b[0m\u001b[1;33m[\u001b[0m\u001b[1;34m'USD'\u001b[0m\u001b[1;33m]\u001b[0m \u001b[1;33m*\u001b[0m \u001b[0mdon_int\u001b[0m\u001b[1;33m)\u001b[0m \u001b[1;33m+\u001b[0m \u001b[1;34m'원'\u001b[0m\u001b[1;33m\u001b[0m\u001b[1;33m\u001b[0m\u001b[0m\n\u001b[0m\u001b[0;32m     10\u001b[0m \u001b[1;33m\u001b[0m\u001b[0m\n\u001b[0;32m     11\u001b[0m     \u001b[1;32melif\u001b[0m \u001b[0mdon_name\u001b[0m \u001b[1;33m==\u001b[0m \u001b[1;34m'유로'\u001b[0m\u001b[1;33m:\u001b[0m\u001b[1;33m\u001b[0m\u001b[1;33m\u001b[0m\u001b[0m\n",
      "\u001b[1;31mTypeError\u001b[0m: unsupported operand type(s) for +: 'int' and 'str'"
     ]
    }
   ],
   "source": [
    "def currency_calculator_bincan(don_int, don_name_str):\n",
    "    currency = {\n",
    "    'USD' : 1167,\n",
    "    'JPY' : 1.096,\n",
    "    'EUR' : 1268,\n",
    "    'CNY' : 171\n",
    "}\n",
    "    if don_name == '달러':\n",
    "        return (currency['USD'] * don_int) + '원'\n",
    "    \n",
    "    elif don_name == '유로':\n",
    "        return (currency['EUR'] * don_int) + '원'\n",
    "    \n",
    "    elif don_name == '위안':\n",
    "        return (currency['CNY'] * don_int) + '원'\n",
    "    \n",
    "    elif don_name == '엔':\n",
    "        return (currency['JPY'] * don_int) + '원'\n",
    "    \n",
    "don, don_name = input(\"volume와 unit을 입력하시오:\").split()\n",
    "don_int = int(don)\n",
    "don_name_str = str(don_name)\n",
    "print(currency_calculator_bincan(don_int, don_name_str))"
   ]
  },
  {
   "cell_type": "code",
   "execution_count": 5,
   "metadata": {},
   "outputs": [
    {
     "name": "stdout",
     "output_type": "stream",
     "text": [
      "volume & unit:100 달러\n",
      "116700\n"
     ]
    }
   ],
   "source": [
    "user_input = input('volume & unit:').split()\n",
    "\n",
    "volume = int(user_input[0])\n",
    "unit = user_input[1]\n",
    "\n",
    "def currency_calulator(volume, unit):\n",
    "    currency = {\n",
    "        'USD' : 1167,\n",
    "        'JPY' : 1.096,\n",
    "        'EUR' : 1268,\n",
    "        'CNY' : 171\n",
    "        }\n",
    "    \n",
    "    unit_currency = {\n",
    "    '달러' : 'USD',\n",
    "    '엔' : 'JYP',\n",
    "    '유로' : 'EUR',\n",
    "    '위안' : 'CNY'\n",
    "        }\n",
    "    \n",
    "    symbol = unit_currency[unit]\n",
    "    return round(volume * currency[symbol], 2)\n",
    "\n",
    "\n",
    "print(currency_calulator(volume, unit))\n",
    "    "
   ]
  },
  {
   "cell_type": "code",
   "execution_count": null,
   "metadata": {},
   "outputs": [],
   "source": [
    "\n",
    "def currency_calucator(volume, unit):\n",
    "         currency = {\n",
    "        'USD' : 1167,\n",
    "        'JPY' : 1.096,\n",
    "        'EUR' : 1268,\n",
    "        'CNY' : 171\n",
    "        }\n",
    "\n",
    "            if unit == '달러':\n",
    "                key = 'USD'\n",
    "    \n",
    "            elif unit == '엔':\n",
    "                key = 'JPY'\n",
    "    \n",
    "            elif unit == '유로':\n",
    "                key = 'EUR'\n",
    "\n",
    "            elif unit == '위안':\n",
    "                key = 'CNY'\n",
    "    \n",
    "            else:\n",
    "                print('ㅠㅠ')\n",
    "    \n",
    "print(volume * currency[key])\n"
   ]
  },
  {
   "cell_type": "code",
   "execution_count": null,
   "metadata": {},
   "outputs": [],
   "source": [
    "unit_currency = {\n",
    "    '달러' : 'USD'\n",
    "    '엔' : 'JYP'\n",
    "    '유로' : 'EUR'\n",
    "    '위안' : 'CNY'\n",
    "}\n",
    "\n",
    "return round(volume * currency[unit_currency[unit],2)\n",
    "                               \n",
    "print(currency_calculator(10, '엔'))"
   ]
  },
  {
   "cell_type": "code",
   "execution_count": null,
   "metadata": {},
   "outputs": [],
   "source": [
    "currency = {\n",
    "    'USD' : 1167,\n",
    "    'JPY' : 1.096,\n",
    "    'EUR' : 1268,\n",
    "    'CNY' : 171\n",
    "}\n",
    "\n",
    "\n",
    "print(currency['USD'])"
   ]
  },
  {
   "cell_type": "markdown",
   "metadata": {
    "slideshow": {
     "slide_type": "slide"
    }
   },
   "source": [
    "## 조건 표현식(Conditional Expression)\n",
    "\n",
    "**활용법**\n",
    "\n",
    "```\n",
    "true_value if <조건식> else false_value\n",
    "```\n",
    "    \n",
    "와 같이 표현식을 작성할 수 있다. 이는 보통 다른 언어에서 활용되는 삼항연산자와 동일하다."
   ]
  },
  {
   "cell_type": "code",
   "execution_count": null,
   "metadata": {},
   "outputs": [],
   "source": [
    "num = 3 \n",
    "\n",
    "print('3이네!') if num == 3 else print('3이 아니네')"
   ]
  },
  {
   "cell_type": "markdown",
   "metadata": {
    "slideshow": {
     "slide_type": "subslide"
    }
   },
   "source": [
    "* 표현식은 보통 조건에 따라 값을 정할 때 많이 활용된다."
   ]
  },
  {
   "cell_type": "code",
   "execution_count": null,
   "metadata": {},
   "outputs": [],
   "source": [
    "# 아래의 코드는 무엇을 위한 코드일까요?\n",
    "num = int(input(\"숫자를 입력하세요 : \"))\n",
    "value = num if num >= 0 else 0 \n",
    "print(value)"
   ]
  },
  {
   "cell_type": "code",
   "execution_count": null,
   "metadata": {
    "slideshow": {
     "slide_type": "fragment"
    }
   },
   "outputs": [],
   "source": [
    "# 위의 코드와 동일한 코드입니다.\n",
    "num = int(input('숫자를 넣어라!: '))\n",
    "if num >= 0:\n",
    "    print(num)\n",
    "\n",
    "else  :\n",
    "    print(\"0\")"
   ]
  },
  {
   "cell_type": "code",
   "execution_count": null,
   "metadata": {
    "slideshow": {
     "slide_type": "subslide"
    }
   },
   "outputs": [],
   "source": [
    "# 다음의 코드와 동일한 조건 표현식을 작성해보세요. bool 개념\n",
    "num = 2\n",
    "if num % 2 :\n",
    "    result = '홀수입니다.'\n",
    "else:\n",
    "    result = '짝수입니다.'\n",
    "print(result)"
   ]
  },
  {
   "cell_type": "code",
   "execution_count": null,
   "metadata": {},
   "outputs": [],
   "source": [
    "# 여기에 코드를 작성하세요.\n",
    "num = 2\n",
    "result = '홀수입니다' if num % 2 else '짝수입니다'\n",
    "print(result)"
   ]
  },
  {
   "cell_type": "markdown",
   "metadata": {
    "slideshow": {
     "slide_type": "slide"
    }
   },
   "source": [
    "# 반복문\n",
    "\n",
    "## `while` 문\n",
    "\n",
    "`while`문은 조건식이 참(True)인 경우 반복적으로 코드를 실행합니다. \n",
    "<br>\n",
    "<br>\n",
    "<center> \n",
    "    <img src=\"./images/02/while.png\", alt=\"while\"/>\n",
    "</center>\n",
    "\n",
    "**while 문은 종료조건을 반드시 설정해주어야 합니다.**"
   ]
  },
  {
   "cell_type": "code",
   "execution_count": null,
   "metadata": {},
   "outputs": [],
   "source": [
    "a = 0 \n",
    "while a < 5: \n",
    "    print(a)\n",
    "    a += 1\n",
    "\n",
    "print('끝')"
   ]
  },
  {
   "cell_type": "markdown",
   "metadata": {
    "slideshow": {
     "slide_type": "subslide"
    }
   },
   "source": [
    "<center>\n",
    "    <img src=\"./images/02/while_style.png\", alt=\"\">\n",
    "</center>\n",
    "\n",
    "`while`문 역시 `<조건식>`이후에 `:`이 반드시 필요하며, \n",
    "\n",
    "이후 오는 코드 블록은 `4spaces`로 **들여쓰기**를 해주셔야 합니다."
   ]
  },
  {
   "cell_type": "markdown",
   "metadata": {
    "slideshow": {
     "slide_type": "slide"
    }
   },
   "source": [
    "## `for` 문\n",
    "\n",
    "`for`문은 정해진 범위 내(시퀀스)에서 순차적으로 코드를 실행합니다.\n",
    "\n",
    "<br>\n",
    "<center>\n",
    "    <img src=\"./images/02/loop-for.png\", alt=\"\">\n",
    "</center>"
   ]
  },
  {
   "cell_type": "code",
   "execution_count": null,
   "metadata": {
    "slideshow": {
     "slide_type": "subslide"
    }
   },
   "outputs": [],
   "source": [
    "ss3 = ['황은석', '지상현', '조성규', '장재영', '이지선']\n",
    "\n",
    "for ace in ss3:\n",
    "    print(ace)\n",
    "    \n",
    "\n",
    "    \n",
    "for i in range(10):\n",
    "    print(i)\n",
    "    \n",
    "\n",
    "print('--', i)  #for문 밖에서도 i가 작동하기 때문에 밖에서는 i 안쓰는게 좋음.\n"
   ]
  },
  {
   "cell_type": "markdown",
   "metadata": {
    "slideshow": {
     "slide_type": "subslide"
    }
   },
   "source": [
    "<center>\n",
    "    <img src=\"./images/02/for_style.png\", alt=\"for_style\">\n",
    "</center>\n",
    "\n",
    "---\n",
    "```\n",
    "for variable in sequence:\n",
    "    code line1\n",
    "    code line2\n",
    "```\n",
    "\n",
    "`for`문은 `sequence`를 순차적으로 **variable**에 값을 바인딩하며, 코드 블록을 시행합니다."
   ]
  },
  {
   "cell_type": "markdown",
   "metadata": {
    "slideshow": {
     "slide_type": "subslide"
    }
   },
   "source": [
    "![for animation](./images/02/for.gif)"
   ]
  },
  {
   "cell_type": "markdown",
   "metadata": {
    "slideshow": {
     "slide_type": "subslide"
    }
   },
   "source": [
    "###  실습문제\n",
    "\n",
    "> 반복문과 조건문만 활용하여 1~30까지 숫자 중에 홀수만 담긴 리스트를 만드세요\n",
    "\n",
    "---\n",
    "```\n",
    "예시 출력)\n",
    "[1, 3, 5, 7, 9, 11, 13, 15, 17, 19, 21, 23, 25, 27, 29]\n",
    "```"
   ]
  },
  {
   "cell_type": "code",
   "execution_count": null,
   "metadata": {
    "slideshow": {
     "slide_type": "subslide"
    }
   },
   "outputs": [],
   "source": [
    "# 여기에 코드를 작성하세요.\n",
    "sun = list(range(1,31))\n",
    "\n",
    "\n",
    "\n",
    "for i in sun:\n",
    "    if i % 2 == 1:\n",
    "        print(i)\n"
   ]
  },
  {
   "cell_type": "code",
   "execution_count": null,
   "metadata": {},
   "outputs": [],
   "source": [
    "odds = []\n",
    "\n",
    "for number in range(1,31):\n",
    "    if number % 2 == 1:\n",
    "        odds = odds + [number]\n",
    "        # odds = [] + []\n",
    "        \n",
    "print(odds)"
   ]
  },
  {
   "cell_type": "code",
   "execution_count": null,
   "metadata": {},
   "outputs": [],
   "source": [
    "#1부터 100까지 자연수 중에 5의 배수들의 총 합을 구하세요.\n",
    "\n",
    "obaesu = []\n",
    "\n",
    "for x in range(1,101):\n",
    "    if x % 5 == 0 :\n",
    "        obaesu = obaesu + [x]\n",
    "        \n",
    "print(obaesu)\n",
    "\n",
    "print(sum(obaesu))"
   ]
  },
  {
   "cell_type": "code",
   "execution_count": null,
   "metadata": {},
   "outputs": [],
   "source": [
    "s = 0\n",
    "\n",
    "for i in range(1,21):\n",
    "    s += i\n",
    "result = s * 5 \n",
    "\n",
    "print(result)"
   ]
  },
  {
   "cell_type": "markdown",
   "metadata": {},
   "source": [
    "### 실습문제\n",
    "#### sigma\n",
    "> 정수 n 이 들어오면, 1 ~ n 까지의 합을 출력하는데, 함수로"
   ]
  },
  {
   "cell_type": "code",
   "execution_count": null,
   "metadata": {},
   "outputs": [],
   "source": [
    "def all_sum(n):\n",
    "    return sum(range(1,n+1))\n",
    "\n",
    "sum_sum = int(input('n 입력:'))\n",
    "\n",
    "print(all_sum(sum_sum))\n",
    "    "
   ]
  },
  {
   "cell_type": "code",
   "execution_count": 47,
   "metadata": {},
   "outputs": [
    {
     "name": "stdout",
     "output_type": "stream",
     "text": [
      "55\n"
     ]
    }
   ],
   "source": [
    "n = 10 \n",
    "total = 0 \n",
    "for i in range(1, n+1):\n",
    "    total += i\n",
    "\n",
    "print(total)"
   ]
  },
  {
   "cell_type": "markdown",
   "metadata": {},
   "source": [
    "### 실습문제\n",
    "#### 99단\n",
    "\n",
    ">\"for\"와 \"range\"로 99단 출력하기"
   ]
  },
  {
   "cell_type": "code",
   "execution_count": 14,
   "metadata": {},
   "outputs": [
    {
     "name": "stdout",
     "output_type": "stream",
     "text": [
      "2  4  6  8  10  12  14  16  18  \n",
      "3  6  9  12  15  18  21  24  27  \n",
      "4  8  12  16  20  24  28  32  36  \n",
      "5  10  15  20  25  30  35  40  45  \n",
      "6  12  18  24  30  36  42  48  54  \n",
      "7  14  21  28  35  42  49  56  63  \n",
      "8  16  24  32  40  48  56  64  72  \n",
      "9  18  27  36  45  54  63  72  81  \n",
      "10  20  30  40  50  60  70  80  90  \n",
      "11  22  33  44  55  66  77  88  99  \n",
      "12  24  36  48  60  72  84  96  108  \n",
      "13  26  39  52  65  78  91  104  117  \n",
      "14  28  42  56  70  84  98  112  126  \n",
      "15  30  45  60  75  90  105  120  135  \n",
      "16  32  48  64  80  96  112  128  144  \n",
      "17  34  51  68  85  102  119  136  153  \n",
      "18  36  54  72  90  108  126  144  162  \n",
      "19  38  57  76  95  114  133  152  171  \n",
      "20  40  60  80  100  120  140  160  180  \n",
      "21  42  63  84  105  126  147  168  189  \n",
      "22  44  66  88  110  132  154  176  198  \n",
      "23  46  69  92  115  138  161  184  207  \n",
      "24  48  72  96  120  144  168  192  216  \n",
      "25  50  75  100  125  150  175  200  225  \n",
      "26  52  78  104  130  156  182  208  234  \n",
      "27  54  81  108  135  162  189  216  243  \n",
      "28  56  84  112  140  168  196  224  252  \n",
      "29  58  87  116  145  174  203  232  261  \n",
      "30  60  90  120  150  180  210  240  270  \n",
      "31  62  93  124  155  186  217  248  279  \n",
      "32  64  96  128  160  192  224  256  288  \n",
      "33  66  99  132  165  198  231  264  297  \n",
      "34  68  102  136  170  204  238  272  306  \n",
      "35  70  105  140  175  210  245  280  315  \n",
      "36  72  108  144  180  216  252  288  324  \n",
      "37  74  111  148  185  222  259  296  333  \n",
      "38  76  114  152  190  228  266  304  342  \n",
      "39  78  117  156  195  234  273  312  351  \n",
      "40  80  120  160  200  240  280  320  360  \n",
      "41  82  123  164  205  246  287  328  369  \n",
      "42  84  126  168  210  252  294  336  378  \n",
      "43  86  129  172  215  258  301  344  387  \n",
      "44  88  132  176  220  264  308  352  396  \n",
      "45  90  135  180  225  270  315  360  405  \n",
      "46  92  138  184  230  276  322  368  414  \n",
      "47  94  141  188  235  282  329  376  423  \n",
      "48  96  144  192  240  288  336  384  432  \n",
      "49  98  147  196  245  294  343  392  441  \n",
      "50  100  150  200  250  300  350  400  450  \n",
      "51  102  153  204  255  306  357  408  459  \n",
      "52  104  156  208  260  312  364  416  468  \n",
      "53  106  159  212  265  318  371  424  477  \n",
      "54  108  162  216  270  324  378  432  486  \n",
      "55  110  165  220  275  330  385  440  495  \n",
      "56  112  168  224  280  336  392  448  504  \n",
      "57  114  171  228  285  342  399  456  513  \n",
      "58  116  174  232  290  348  406  464  522  \n",
      "59  118  177  236  295  354  413  472  531  \n",
      "60  120  180  240  300  360  420  480  540  \n",
      "61  122  183  244  305  366  427  488  549  \n",
      "62  124  186  248  310  372  434  496  558  \n",
      "63  126  189  252  315  378  441  504  567  \n",
      "64  128  192  256  320  384  448  512  576  \n",
      "65  130  195  260  325  390  455  520  585  \n",
      "66  132  198  264  330  396  462  528  594  \n",
      "67  134  201  268  335  402  469  536  603  \n",
      "68  136  204  272  340  408  476  544  612  \n",
      "69  138  207  276  345  414  483  552  621  \n",
      "70  140  210  280  350  420  490  560  630  \n",
      "71  142  213  284  355  426  497  568  639  \n",
      "72  144  216  288  360  432  504  576  648  \n",
      "73  146  219  292  365  438  511  584  657  \n",
      "74  148  222  296  370  444  518  592  666  \n",
      "75  150  225  300  375  450  525  600  675  \n",
      "76  152  228  304  380  456  532  608  684  \n",
      "77  154  231  308  385  462  539  616  693  \n",
      "78  156  234  312  390  468  546  624  702  \n",
      "79  158  237  316  395  474  553  632  711  \n",
      "80  160  240  320  400  480  560  640  720  \n",
      "81  162  243  324  405  486  567  648  729  \n",
      "82  164  246  328  410  492  574  656  738  \n",
      "83  166  249  332  415  498  581  664  747  \n",
      "84  168  252  336  420  504  588  672  756  \n",
      "85  170  255  340  425  510  595  680  765  \n",
      "86  172  258  344  430  516  602  688  774  \n",
      "87  174  261  348  435  522  609  696  783  \n",
      "88  176  264  352  440  528  616  704  792  \n",
      "89  178  267  356  445  534  623  712  801  \n",
      "90  180  270  360  450  540  630  720  810  \n",
      "91  182  273  364  455  546  637  728  819  \n",
      "92  184  276  368  460  552  644  736  828  \n",
      "93  186  279  372  465  558  651  744  837  \n",
      "94  188  282  376  470  564  658  752  846  \n",
      "95  190  285  380  475  570  665  760  855  \n",
      "96  192  288  384  480  576  672  768  864  \n",
      "97  194  291  388  485  582  679  776  873  \n",
      "98  196  294  392  490  588  686  784  882  \n",
      "99  198  297  396  495  594  693  792  891  \n"
     ]
    }
   ],
   "source": [
    "for i in range(2,100):                     \n",
    "    for j in range(1, 10):    \n",
    "        \n",
    "        print(i*j, end = '  ') \n",
    "        \n",
    "    print()"
   ]
  },
  {
   "cell_type": "markdown",
   "metadata": {},
   "source": [
    "### 실습문제\n",
    "#### 삼각형\n",
    "> 입력으로 높이가 들어옵니다. 높이만큼 산 모양으로 출력하세요(함수인데, print 로 끝, no out)"
   ]
  },
  {
   "cell_type": "code",
   "execution_count": 37,
   "metadata": {},
   "outputs": [
    {
     "name": "stdout",
     "output_type": "stream",
     "text": [
      "*\n",
      "***\n",
      "*****\n",
      "*******\n",
      "*********\n"
     ]
    }
   ],
   "source": [
    "\n",
    "for i in range(1,10,2):\n",
    "    height = i\n",
    "    print(height * '*')"
   ]
  },
  {
   "cell_type": "code",
   "execution_count": 49,
   "metadata": {},
   "outputs": [
    {
     "name": "stdout",
     "output_type": "stream",
     "text": [
      "Tree 의 높이를 입력하세요(5~30) : 8\n",
      "       ☆\n",
      "       *\n",
      "      ***\n",
      "     *****\n",
      "    *******\n",
      "   *********\n",
      "  ***********\n",
      " *************\n",
      "***************\n",
      "      ***\n",
      "      ***\n",
      "      ***\n"
     ]
    }
   ],
   "source": [
    "\n",
    "    \n",
    "    line = int(input(\"Tree 의 높이를 입력하세요(5~30) : \"))\n",
    "    \n",
    "    for x in range(1):\n",
    "        print((\" \" * ( (line * 2 - 1 - x) // 2 )) + (\"☆\"))\n",
    "    for x in range(1, line * 2, 2):\n",
    "        print((\" \" * ( (line * 2 - 1 - x) // 2 )) + (\"*\" * x))\n",
    "        \n",
    "        \n",
    "    for y in range(1, 4):\n",
    "        print(\" \" * (line-2) + \"***\")\n",
    "   \n"
   ]
  },
  {
   "cell_type": "code",
   "execution_count": null,
   "metadata": {},
   "outputs": [],
   "source": [
    "for i in range(h):\n",
    "    for j in reversed(range(h)):\n",
    "        if i < j :\n",
    "            print(' ', end='')\n",
    "        else:\n",
    "            print('*', end='')\n",
    "            \n",
    "    for j in range(h):\n",
    "        if i > j:\n",
    "            print('*', end='')\n",
    "            \n",
    "    print()"
   ]
  },
  {
   "cell_type": "markdown",
   "metadata": {
    "slideshow": {
     "slide_type": "slide"
    }
   },
   "source": [
    "### index와 함께 `for`문 활용하기\n",
    "\n",
    "`enumerate()`를 활용하면, 추가적인 변수를 활용할 수 있다."
   ]
  },
  {
   "cell_type": "code",
   "execution_count": null,
   "metadata": {},
   "outputs": [],
   "source": [
    "lunch = ['생선까스', '북어해장국','비엔나소시지']\n",
    "for index, menu in enumerate(lunch):\n",
    "    print(index, menu)"
   ]
  },
  {
   "cell_type": "markdown",
   "metadata": {
    "slideshow": {
     "slide_type": "subslide"
    }
   },
   "source": [
    "* `enumerate()`는 [파이썬 표준 라이브러리의 내장함수](https://docs.python.org/ko/3.6/library/functions.html) 중 하나이며, 다음과 같이 구성되어 있다.\n",
    "\n",
    "<center>\n",
    "    <img src=\"./images/02/enumerate.png\", alt=\"enumerate\">\n",
    "</center>"
   ]
  },
  {
   "cell_type": "code",
   "execution_count": null,
   "metadata": {},
   "outputs": [],
   "source": [
    "mates = ['박준태','박찬미','백지원','송건호','안도건']\n",
    "enumerate(mates)\n",
    "\n",
    "# 결과값 <enumerate at 0x2214ef54cf0> 주소가 찍히는 중\n",
    "\n",
    "list(enumerate(mates))"
   ]
  },
  {
   "cell_type": "code",
   "execution_count": null,
   "metadata": {},
   "outputs": [],
   "source": [
    "list(enumerate(mates, start = 1))"
   ]
  },
  {
   "cell_type": "markdown",
   "metadata": {
    "slideshow": {
     "slide_type": "subslide"
    }
   },
   "source": [
    "### dictionary 반복문 활용하기\n",
    "\n",
    "기본적으로 dictionary를 `for`문을 시행시키면 다음과 같이 시행됩니다."
   ]
  },
  {
   "cell_type": "code",
   "execution_count": null,
   "metadata": {},
   "outputs": [],
   "source": [
    "class_room = {\"teacher\" : \"Yu\", \"leader\" : \"hwang\", \"CA\" : \"kang\"}\n",
    "\n",
    "for role in class_room:\n",
    "    print(role)"
   ]
  },
  {
   "cell_type": "markdown",
   "metadata": {
    "slideshow": {
     "slide_type": "subslide"
    }
   },
   "source": [
    "dictionary의 `key`를 출력함으로써 `value`에도 접근할 수 있기 때문입니다.\n",
    "\n",
    "따라서 dictionary의 value를 출력하기 위해서는 아래와 같이 작성합니다."
   ]
  },
  {
   "cell_type": "code",
   "execution_count": null,
   "metadata": {},
   "outputs": [],
   "source": [
    "for role in class_room:\n",
    "    print(class_room[role])"
   ]
  },
  {
   "cell_type": "markdown",
   "metadata": {
    "slideshow": {
     "slide_type": "subslide"
    }
   },
   "source": [
    "* dictionary에서 `for` 활용하는 4가지 방법\n",
    "\n",
    "```python\n",
    "# 0. dictionary (key 반복)\n",
    "for key in dict:\n",
    "    print(key)\n",
    "\n",
    "# 1. key 반복\n",
    "for key in dict.keys():\n",
    "    print(key)\n",
    "    \n",
    "# 2. value 반복    \n",
    "for val in dict.values():\n",
    "    print(val)\n",
    "\n",
    "# 3. key와 value 반복\n",
    "for key, val in dict.items():\n",
    "    print(key, val)\n",
    "\n",
    "```"
   ]
  },
  {
   "cell_type": "markdown",
   "metadata": {
    "slideshow": {
     "slide_type": "subslide"
    }
   },
   "source": [
    "### 실습문제 \n",
    "\n",
    "> 한번 직접 4가지 반복문을 활용해보고 출력되는 결과를 확인해보세요.\n",
    "\n",
    "```\n",
    "classroom = {\"teacher\": \"Kim\", \"student1\": \"Hong\", \"student2\": \"Kang\"}\n",
    "\n",
    "```"
   ]
  },
  {
   "cell_type": "code",
   "execution_count": null,
   "metadata": {},
   "outputs": [],
   "source": [
    "# 여기에 코드를 작성하세요.\n",
    "classroom = { \"teacher\": \"Kim\", \"student1\": \"Hong\", \"student2\": \"Kang\" }\n",
    "\n",
    "\n",
    "for key in classroom:\n",
    "    print(key)\n",
    "print('-'*50)    \n",
    "for key in class_room.keys():\n",
    "    print(key)\n",
    "print('-'*50)  \n",
    "\n",
    "for val in class_room.values():\n",
    "    print(val)\n",
    "print('-'*50)  \n",
    "\n",
    "for key,val in class_room.items():\n",
    "    print(key,val)\n"
   ]
  },
  {
   "cell_type": "markdown",
   "metadata": {
    "slideshow": {
     "slide_type": "slide"
    }
   },
   "source": [
    "## `break`, `continue`, `else`\n",
    "\n",
    "### `break`\n",
    "\n",
    "`break`문은 반복문을 종료하는 표현입니다. "
   ]
  },
  {
   "cell_type": "code",
   "execution_count": null,
   "metadata": {},
   "outputs": [],
   "source": [
    "for i in range(10):\n",
    "    if i == 6:\n",
    "        break\n",
    "    print(i)"
   ]
  },
  {
   "cell_type": "markdown",
   "metadata": {
    "slideshow": {
     "slide_type": "subslide"
    }
   },
   "source": [
    "#### 실습문제\n",
    "\n",
    "> 조건문과 반복문, break를 통해서 아래의 코드와 동일한 코드를 작성하세요.\n",
    "> \n",
    "> (3이 있을 경우 True를 print하고, 아닐 경우 False를 print 합니다.)\n",
    "\n",
    "\n",
    "```python\n",
    "numbers = [1, 5, 10]\n",
    "print(3 in numbers)\n",
    "```\n",
    "\n",
    "---\n",
    "```\n",
    "예시 출력)\n",
    "False\n",
    "```"
   ]
  },
  {
   "cell_type": "code",
   "execution_count": null,
   "metadata": {},
   "outputs": [],
   "source": [
    "numbers = [1, 5, 10]\n",
    "# 여기에 코드를 작성하세요.\n",
    "\n",
    "#for i in numbers:\n",
    "#    if i == 3:\n",
    "#        print(True)\n",
    "    \n",
    "#    else:\n",
    "#        print(False)\n",
    "        \n",
    "#    break\n",
    "    \n",
    "    \n",
    "\n",
    "for number in numbers:\n",
    "    if number == 3:\n",
    "        result = True\n",
    "    break"
   ]
  },
  {
   "cell_type": "markdown",
   "metadata": {
    "slideshow": {
     "slide_type": "subslide"
    }
   },
   "source": [
    "### `continue` \n",
    "\n",
    "`continue`문은 continue 이후의 코드를 수행하지 않고 다음 요소를 선택해 반복을 계속 수행합니다."
   ]
  },
  {
   "cell_type": "code",
   "execution_count": null,
   "metadata": {},
   "outputs": [],
   "source": [
    "for i in range(6):\n",
    "    if i % 2 == 0:\n",
    "        continue\n",
    "        \n",
    "    print(f\"{i} is odd number\")"
   ]
  },
  {
   "cell_type": "markdown",
   "metadata": {
    "slideshow": {
     "slide_type": "subslide"
    }
   },
   "source": [
    "### `else`\n",
    "\n",
    "`else`문은 끝까지 반복문을 시행한 이후에 실행됩니다.\n",
    "\n",
    "(`break`를 통해 중간에 종료되지 않은 경우만 실행)"
   ]
  },
  {
   "cell_type": "code",
   "execution_count": null,
   "metadata": {},
   "outputs": [],
   "source": [
    "for i in range(3):\n",
    "    if i == 3:\n",
    "        print(f'{i}에서 break 실행됨')\n",
    "        break\n",
    "        \n",
    "else:\n",
    "    print('break 안걸림')"
   ]
  },
  {
   "cell_type": "code",
   "execution_count": null,
   "metadata": {},
   "outputs": [],
   "source": [
    "for i in range(3):\n",
    "    if i == 2:\n",
    "        print(f'{i}에서 break 실행됨')\n",
    "        break\n",
    "        \n",
    "else:\n",
    "    print('break 안걸림')"
   ]
  },
  {
   "cell_type": "markdown",
   "metadata": {},
   "source": [
    "### problem set"
   ]
  },
  {
   "cell_type": "markdown",
   "metadata": {},
   "source": [
    "> 'colors = ['red','green','blue','white','black','gold']' 다음 리스트에서  0, 4, 5 index에 있는 요소들을 삭제한 새로운 리스트를 만드세요."
   ]
  },
  {
   "cell_type": "code",
   "execution_count": 60,
   "metadata": {},
   "outputs": [
    {
     "name": "stdout",
     "output_type": "stream",
     "text": [
      "['green', 'blue', 'white']\n"
     ]
    }
   ],
   "source": [
    "colors = ['red','green','blue','white','black','gold']\n",
    "\n",
    "moim = colors[1], colors[2], colors[3]\n",
    "\n",
    "print(list(moim))"
   ]
  },
  {
   "cell_type": "code",
   "execution_count": 112,
   "metadata": {},
   "outputs": [
    {
     "name": "stdout",
     "output_type": "stream",
     "text": [
      "['green', 'blue', 'white']\n",
      "['green', 'blue', 'white']\n"
     ]
    }
   ],
   "source": [
    "delete_index = [0, 4, 5]\n",
    "remain_colors = []\n",
    "\n",
    "for index, color in enumerate(colors):\n",
    "    if index not in delete_index:\n",
    "        remain_colors.append(color)\n",
    "        \n",
    "print(remain_colors)\n",
    "\n",
    "\n",
    "#2\n",
    "\n",
    "remain_colors=[]\n",
    "\n",
    "for color in colors:\n",
    "    if colors.index(color) not in(0,4,5):\n",
    "        remain_colors.append(color)\n",
    "        \n",
    "print(remain_colors)"
   ]
  },
  {
   "cell_type": "markdown",
   "metadata": {},
   "source": [
    "#### 달력 출력하기\n",
    "\n",
    "> 1월부터 12월까지 다음과 같은 형태로 달력을 출력하세요\n",
    "\n",
    "1월\n",
    "\n",
    "일 월 화 수 목 금 토 (1space)\n",
    "1  2  3 4  5 6  7  (2space)\n",
    "\n"
   ]
  },
  {
   "cell_type": "code",
   "execution_count": 119,
   "metadata": {},
   "outputs": [
    {
     "name": "stdout",
     "output_type": "stream",
     "text": [
      "\n",
      "1 월\n",
      "------------------\n",
      "일 월 화 수 목 금 토\n",
      "------------------\n",
      "                 1\n",
      "\n",
      "2  3  4  5  6  7  8\n",
      "\n",
      "9 10 11 12  13 14 15\n",
      "\n",
      "16 17 18 19 20 21 22\n",
      "\n",
      "23 24 25 26 27 28 29\n",
      "\n",
      "30 31 \n",
      "\n",
      "2 월\n",
      "------------------\n",
      "일 월 화 수 목 금 토\n",
      "------------------\n",
      "                 1\n",
      "\n",
      "2  3  4  5  6  7  8\n",
      "\n",
      "9 10 11 12  13 14 15\n",
      "\n",
      "16 17 18 19 20 21 22\n",
      "\n",
      "23 24 25 26 27 28 \n",
      "\n",
      "3 월\n",
      "------------------\n",
      "일 월 화 수 목 금 토\n",
      "------------------\n",
      "                 1\n",
      "\n",
      "2  3  4  5  6  7  8\n",
      "\n",
      "9 10 11 12  13 14 15\n",
      "\n",
      "16 17 18 19 20 21 22\n",
      "\n",
      "23 24 25 26 27 28 29\n",
      "\n",
      "30 31 \n",
      "\n",
      "4 월\n",
      "------------------\n",
      "일 월 화 수 목 금 토\n",
      "------------------\n",
      "                 1\n",
      "\n",
      "2  3  4  5  6  7  8\n",
      "\n",
      "9 10 11 12  13 14 15\n",
      "\n",
      "16 17 18 19 20 21 22\n",
      "\n",
      "23 24 25 26 27 28 29\n",
      "\n",
      "30  \n",
      "\n",
      "5 월\n",
      "------------------\n",
      "일 월 화 수 목 금 토\n",
      "------------------\n",
      "                 1\n",
      "\n",
      "2  3  4  5  6  7  8\n",
      "\n",
      "9 10 11 12  13 14 15\n",
      "\n",
      "16 17 18 19 20 21 22\n",
      "\n",
      "23 24 25 26 27 28 29\n",
      "\n",
      "30 31 \n",
      "\n",
      "6 월\n",
      "------------------\n",
      "일 월 화 수 목 금 토\n",
      "------------------\n",
      "                 1\n",
      "\n",
      "2  3  4  5  6  7  8\n",
      "\n",
      "9 10 11 12  13 14 15\n",
      "\n",
      "16 17 18 19 20 21 22\n",
      "\n",
      "23 24 25 26 27 28 29\n",
      "\n",
      "30  \n",
      "\n",
      "7 월\n",
      "------------------\n",
      "일 월 화 수 목 금 토\n",
      "------------------\n",
      "                 1\n",
      "\n",
      "2  3  4  5  6  7  8\n",
      "\n",
      "9 10 11 12  13 14 15\n",
      "\n",
      "16 17 18 19 20 21 22\n",
      "\n",
      "23 24 25 26 27 28 29\n",
      "\n",
      "30 31 \n",
      "\n",
      "8 월\n",
      "------------------\n",
      "일 월 화 수 목 금 토\n",
      "------------------\n",
      "                 1\n",
      "\n",
      "2  3  4  5  6  7  8\n",
      "\n",
      "9 10 11 12  13 14 15\n",
      "\n",
      "16 17 18 19 20 21 22\n",
      "\n",
      "23 24 25 26 27 28 29\n",
      "\n",
      "30 31 \n",
      "\n",
      "9 월\n",
      "------------------\n",
      "일 월 화 수 목 금 토\n",
      "------------------\n",
      "                 1\n",
      "\n",
      "2  3  4  5  6  7  8\n",
      "\n",
      "9 10 11 12  13 14 15\n",
      "\n",
      "16 17 18 19 20 21 22\n",
      "\n",
      "23 24 25 26 27 28 29\n",
      "\n",
      "30 31 \n",
      "\n",
      "10 월\n",
      "------------------\n",
      "일 월 화 수 목 금 토\n",
      "------------------\n",
      "                 1\n",
      "\n",
      "2  3  4  5  6  7  8\n",
      "\n",
      "9 10 11 12  13 14 15\n",
      "\n",
      "16 17 18 19 20 21 22\n",
      "\n",
      "23 24 25 26 27 28 29\n",
      "\n",
      "30  \n",
      "\n",
      "11 월\n",
      "------------------\n",
      "일 월 화 수 목 금 토\n",
      "------------------\n",
      "                 1\n",
      "\n",
      "2  3  4  5  6  7  8\n",
      "\n",
      "9 10 11 12  13 14 15\n",
      "\n",
      "16 17 18 19 20 21 22\n",
      "\n",
      "23 24 25 26 27 28 29\n",
      "\n",
      "30 31 \n",
      "\n",
      "12 월\n",
      "------------------\n",
      "일 월 화 수 목 금 토\n",
      "------------------\n",
      "                 1\n",
      "\n",
      "2  3  4  5  6  7  8\n",
      "\n",
      "9 10 11 12  13 14 15\n",
      "\n",
      "16 17 18 19 20 21 22\n",
      "\n",
      "23 24 25 26 27 28 29\n",
      "\n",
      "30 31 \n"
     ]
    }
   ],
   "source": [
    "month = range(1,13)\n",
    "\n",
    "\n",
    "\n",
    "for x in month:\n",
    "    print()\n",
    "    print(x, '월')\n",
    "    print('------------------')\n",
    "    print('일 월 화 수 목 금 토')\n",
    "    print('------------------')\n",
    "    \n",
    "    if x % 2 == 1 or x == 8 or x == 12:\n",
    "            \n",
    "        print(\"\"\"                 1\\n\n",
    "2  3  4  5  6  7  8\\n\n",
    "9 10 11 12  13 14 15\\n\n",
    "16 17 18 19 20 21 22\\n\n",
    "23 24 25 26 27 28 29\\n\n",
    "30 31 \"\"\")\n",
    "    elif x == 2:\n",
    "            \n",
    "        print(\"\"\"                 1\\n\n",
    "2  3  4  5  6  7  8\\n\n",
    "9 10 11 12  13 14 15\\n\n",
    "16 17 18 19 20 21 22\\n\n",
    "23 24 25 26 27 28 \"\"\")\n",
    "        \n",
    "    elif x % 2 == 0 :\n",
    "            \n",
    "        print(\"\"\"                 1\\n\n",
    "2  3  4  5  6  7  8\\n\n",
    "9 10 11 12  13 14 15\\n\n",
    "16 17 18 19 20 21 22\\n\n",
    "23 24 25 26 27 28 29\\n\n",
    "30  \"\"\")\n",
    "        \n",
    "\n",
    "\n",
    "\n",
    "    "
   ]
  },
  {
   "cell_type": "code",
   "execution_count": 33,
   "metadata": {},
   "outputs": [
    {
     "name": "stdout",
     "output_type": "stream",
     "text": [
      "1 월\n",
      "Sun|Mon|Tue|Wed|Thu|Fri|Sat|\n",
      "----------------------------\n",
      "  1|  2|  3|  4|  5|  6|  7|\n",
      "  8|  9| 10| 11| 12| 13| 14|\n",
      " 15| 16| 17| 18| 19| 20| 21|\n",
      " 22| 23| 24| 25| 26| 27| 28|\n",
      " 29| 30| 31|\n",
      "\n",
      "2 월\n",
      "Sun|Mon|Tue|Wed|Thu|Fri|Sat|\n",
      "----------------------------\n",
      "  1|  2|  3|  4|  5|  6|  7|\n",
      "  8|  9| 10| 11| 12| 13| 14|\n",
      " 15| 16| 17| 18| 19| 20| 21|\n",
      " 22| 23| 24| 25| 26| 27| 28|\n",
      "\n",
      "3 월\n",
      "Sun|Mon|Tue|Wed|Thu|Fri|Sat|\n",
      "----------------------------\n",
      "  1|  2|  3|  4|  5|  6|  7|\n",
      "  8|  9| 10| 11| 12| 13| 14|\n",
      " 15| 16| 17| 18| 19| 20| 21|\n",
      " 22| 23| 24| 25| 26| 27| 28|\n",
      " 29| 30| 31|\n",
      "\n",
      "4 월\n",
      "Sun|Mon|Tue|Wed|Thu|Fri|Sat|\n",
      "----------------------------\n",
      "  1|  2|  3|  4|  5|  6|  7|\n",
      "  8|  9| 10| 11| 12| 13| 14|\n",
      " 15| 16| 17| 18| 19| 20| 21|\n",
      " 22| 23| 24| 25| 26| 27| 28|\n",
      " 29| 30|\n",
      "\n",
      "5 월\n",
      "Sun|Mon|Tue|Wed|Thu|Fri|Sat|\n",
      "----------------------------\n",
      "  1|  2|  3|  4|  5|  6|  7|\n",
      "  8|  9| 10| 11| 12| 13| 14|\n",
      " 15| 16| 17| 18| 19| 20| 21|\n",
      " 22| 23| 24| 25| 26| 27| 28|\n",
      " 29| 30| 31|\n",
      "\n",
      "6 월\n",
      "Sun|Mon|Tue|Wed|Thu|Fri|Sat|\n",
      "----------------------------\n",
      "  1|  2|  3|  4|  5|  6|  7|\n",
      "  8|  9| 10| 11| 12| 13| 14|\n",
      " 15| 16| 17| 18| 19| 20| 21|\n",
      " 22| 23| 24| 25| 26| 27| 28|\n",
      " 29| 30|\n",
      "\n",
      "7 월\n",
      "Sun|Mon|Tue|Wed|Thu|Fri|Sat|\n",
      "----------------------------\n",
      "  1|  2|  3|  4|  5|  6|  7|\n",
      "  8|  9| 10| 11| 12| 13| 14|\n",
      " 15| 16| 17| 18| 19| 20| 21|\n",
      " 22| 23| 24| 25| 26| 27| 28|\n",
      " 29| 30| 31|\n",
      "\n",
      "8 월\n",
      "Sun|Mon|Tue|Wed|Thu|Fri|Sat|\n",
      "----------------------------\n",
      "  1|  2|  3|  4|  5|  6|  7|\n",
      "  8|  9| 10| 11| 12| 13| 14|\n",
      " 15| 16| 17| 18| 19| 20| 21|\n",
      " 22| 23| 24| 25| 26| 27| 28|\n",
      " 29| 30| 31|\n",
      "\n",
      "9 월\n",
      "Sun|Mon|Tue|Wed|Thu|Fri|Sat|\n",
      "----------------------------\n",
      "  1|  2|  3|  4|  5|  6|  7|\n",
      "  8|  9| 10| 11| 12| 13| 14|\n",
      " 15| 16| 17| 18| 19| 20| 21|\n",
      " 22| 23| 24| 25| 26| 27| 28|\n",
      " 29| 30|\n",
      "\n",
      "10 월\n",
      "Sun|Mon|Tue|Wed|Thu|Fri|Sat|\n",
      "----------------------------\n",
      "  1|  2|  3|  4|  5|  6|  7|\n",
      "  8|  9| 10| 11| 12| 13| 14|\n",
      " 15| 16| 17| 18| 19| 20| 21|\n",
      " 22| 23| 24| 25| 26| 27| 28|\n",
      " 29| 30| 31|\n",
      "\n",
      "11 월\n",
      "Sun|Mon|Tue|Wed|Thu|Fri|Sat|\n",
      "----------------------------\n",
      "  1|  2|  3|  4|  5|  6|  7|\n",
      "  8|  9| 10| 11| 12| 13| 14|\n",
      " 15| 16| 17| 18| 19| 20| 21|\n",
      " 22| 23| 24| 25| 26| 27| 28|\n",
      " 29| 30|\n",
      "\n",
      "12 월\n",
      "Sun|Mon|Tue|Wed|Thu|Fri|Sat|\n",
      "----------------------------\n",
      "  1|  2|  3|  4|  5|  6|  7|\n",
      "  8|  9| 10| 11| 12| 13| 14|\n",
      " 15| 16| 17| 18| 19| 20| 21|\n",
      " 22| 23| 24| 25| 26| 27| 28|\n",
      " 29| 30| 31|\n",
      "\n"
     ]
    }
   ],
   "source": [
    "months_end = {\n",
    "    1 : 31, 2 : 28, 3 : 31, 4 : 30, 5 : 31, 6 : 30, 7 : 31, 8 : 31, 9 : 30, 10 : 31, 11 : 30, 12 : 31\n",
    "}\n",
    "\n",
    "weeks = ['Sun', 'Mon', 'Tue', 'Wed','Thu','Fri','Sat']\n",
    "\n",
    "for month, end_date in months_end.items():\n",
    "    print(month, '월')\n",
    "    for yoil in weeks:\n",
    "        print(yoil, end = '|')\n",
    "    print()\n",
    "    print('-' * 28)\n",
    "    \n",
    "    count = 0 \n",
    "    for day in range(1, end_date + 1):\n",
    "        print (f' {day}|', end='') if  day >= 10 else print(f'  {day}|', end='')\n",
    "        count += 1 \n",
    "        if count == 7 and day != end_date:\n",
    "            print()\n",
    "            count = 0\n",
    "            \n",
    "    \n",
    "    print('\\n')\n",
    "            \n"
   ]
  },
  {
   "cell_type": "code",
   "execution_count": 11,
   "metadata": {},
   "outputs": [
    {
     "name": "stdout",
     "output_type": "stream",
     "text": [
      "    January 2019\n",
      "Mo Tu We Th Fr Sa Su\n",
      "    1  2  3  4  5  6\n",
      " 7  8  9 10 11 12 13\n",
      "14 15 16 17 18 19 20\n",
      "21 22 23 24 25 26 27\n",
      "28 29 30 31\n"
     ]
    }
   ],
   "source": [
    "import calendar\n",
    "\n",
    "\n",
    "calendar.prmonth(2019, 1)"
   ]
  }
 ],
 "metadata": {
  "celltoolbar": "Slideshow",
  "kernelspec": {
   "display_name": "Python 3",
   "language": "python",
   "name": "python3"
  },
  "language_info": {
   "codemirror_mode": {
    "name": "ipython",
    "version": 3
   },
   "file_extension": ".py",
   "mimetype": "text/x-python",
   "name": "python",
   "nbconvert_exporter": "python",
   "pygments_lexer": "ipython3",
   "version": "3.6.7"
  },
  "toc": {
   "base_numbering": 1,
   "nav_menu": {},
   "number_sections": true,
   "sideBar": true,
   "skip_h1_title": false,
   "title_cell": "Table of Contents",
   "title_sidebar": "Contents",
   "toc_cell": false,
   "toc_position": {},
   "toc_section_display": true,
   "toc_window_display": false
  }
 },
 "nbformat": 4,
 "nbformat_minor": 2
}
