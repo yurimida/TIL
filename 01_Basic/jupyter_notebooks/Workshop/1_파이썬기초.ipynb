{
 "cells": [
  {
   "cell_type": "markdown",
   "metadata": {},
   "source": [
    "# Day1\n",
    "## Workshop"
   ]
  },
  {
   "cell_type": "code",
   "execution_count": 73,
   "metadata": {},
   "outputs": [
    {
     "name": "stdout",
     "output_type": "stream",
     "text": [
      "*****\n",
      "*   *\n",
      "*   *\n",
      "*   *\n",
      "*   *\n",
      "*   *\n",
      "*   *\n",
      "*   *\n",
      "*****\n",
      "*****\n",
      "*****\n",
      "*****\n",
      "*****\n",
      "*****\n",
      "*****\n",
      "*****\n",
      "*****\n",
      "*****\n",
      "\n"
     ]
    }
   ],
   "source": [
    "#두 개의 정수 n과 m이 주어집니다. 반복문을 사용하지 않고 별(*)문자를 이용해 가로의 길이가 n, 세로의 길이가 m인 직사각형형태를 출력해보세요.\n",
    "\n",
    "n=5\n",
    "m=9\n",
    "print('*'*5)\n",
    "print('*   *')\n",
    "print('*   *')\n",
    "print('*   *')\n",
    "print('*   *')\n",
    "print('*   *')\n",
    "print('*   *')\n",
    "print('*   *')\n",
    "print('*'*5)\n",
    "\n",
    "line = '*' *n + '\\n'\n",
    "print(line * m)"
   ]
  },
  {
   "cell_type": "code",
   "execution_count": 22,
   "metadata": {},
   "outputs": [
    {
     "name": "stdout",
     "output_type": "stream",
     "text": [
      "dict_values([80, 99, 89, 83])\n",
      "87.75\n"
     ]
    }
   ],
   "source": [
    "# 다음 딕셔너리에서 평균 점수를 출력하시오.\n",
    "\n",
    "student = {'python' : 80, 'algorithm': 99, 'django' : 89, 'flask' : 83}\n",
    "\n",
    "score = student.values()\n",
    "\n",
    "print(score)\n",
    "\n",
    "mean = sum(score)/len(score)\n",
    "\n",
    "print(mean)"
   ]
  },
  {
   "cell_type": "code",
   "execution_count": 4,
   "metadata": {},
   "outputs": [
    {
     "name": "stdout",
     "output_type": "stream",
     "text": [
      "3 3 3 3\n",
      "{'A': 3, 'B': 3, 'AB': 3, 'O': 3}\n"
     ]
    }
   ],
   "source": [
    "\n",
    "\n",
    "blood_types = ['A', 'B', 'A', 'O','AB','AB','AB','O','O','A','B','B']\n",
    "\n",
    "a = 0\n",
    "b = 0\n",
    "ab = 0\n",
    "o = 0\n",
    "\n",
    "for i in blood_types:\n",
    "    cnt_types[i] += 1\n",
    "    if i == 'A' :\n",
    "        a += 1\n",
    "       \n",
    "    if i == 'B' :\n",
    "        b += 1\n",
    "      \n",
    "    if i == 'AB' :\n",
    "        ab += 1\n",
    "        \n",
    "    if i == 'O' :\n",
    "        o += 1\n",
    "        \n",
    "print( a, b, ab, o)\n",
    "\n",
    "\n",
    "\n",
    "cnt_types = {\n",
    "    'A':0,\n",
    "    'B':0,\n",
    "    'AB':0,\n",
    "    'O': 0\n",
    "}\n",
    "\n",
    "for i in blood_types:\n",
    "    cnt_types[i] += 1\n",
    "    if i == 'A' :\n",
    "        a += 1\n",
    "        #print('A는'+ str(blood_types.count(i)) +'명')\n",
    "    if i == 'B' :\n",
    "        b += 1\n",
    "        #print('B는'+ str(blood_types.count(i)) +'명')\n",
    "    if i == 'AB' :\n",
    "        ab += 1\n",
    "        #print('Ab는'+ str(blood_types.count(i)) +'명')\n",
    "    if i == 'O' :\n",
    "        o += 1\n",
    "        #print('O는'+ str(blood_types.count(i)) +'명')\n",
    "\n",
    "print(cnt_types)"
   ]
  }
 ],
 "metadata": {
  "kernelspec": {
   "display_name": "Python 3",
   "language": "python",
   "name": "python3"
  },
  "language_info": {
   "codemirror_mode": {
    "name": "ipython",
    "version": 3
   },
   "file_extension": ".py",
   "mimetype": "text/x-python",
   "name": "python",
   "nbconvert_exporter": "python",
   "pygments_lexer": "ipython3",
   "version": "3.6.7"
  }
 },
 "nbformat": 4,
 "nbformat_minor": 2
}
