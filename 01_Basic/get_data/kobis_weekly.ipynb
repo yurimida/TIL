{
 "cells": [
  {
   "cell_type": "code",
   "execution_count": 28,
   "metadata": {},
   "outputs": [
    {
     "ename": "SyntaxError",
     "evalue": "invalid syntax (<ipython-input-28-d9aac9944b38>, line 1)",
     "output_type": "error",
     "traceback": [
      "\u001b[1;36m  File \u001b[1;32m\"<ipython-input-28-d9aac9944b38>\"\u001b[1;36m, line \u001b[1;32m1\u001b[0m\n\u001b[1;33m    URL =\u001b[0m\n\u001b[1;37m         ^\u001b[0m\n\u001b[1;31mSyntaxError\u001b[0m\u001b[1;31m:\u001b[0m invalid syntax\n"
     ]
    }
   ],
   "source": [
    "URL =\n",
    "\n",
    "f'http://www.kobis.or.kr/kobisopenapi/webservice/rest/boxoffice/searchWeeklyBoxOfficeList.json?key={key}&targetDt=20190113&weekGb=0'\n",
    "\n",
    "f'http://www.kobis.or.kr/kobisopenapi/webservice/rest/boxoffice/searchWeeklyBoxOfficeList.json?key={key}&targetDt=20190106&weekGb=0'\n",
    "\n",
    "f'http://www.kobis.or.kr/kobisopenapi/webservice/rest/boxoffice/searchWeeklyBoxOfficeList.json?key={key}&targetDt=20181230&weekGb=0'\n",
    "\n",
    "f'http://www.kobis.or.kr/kobisopenapi/webservice/rest/boxoffice/searchWeeklyBoxOfficeList.json?key={key}&targetDt=20181223&weekGb=0'\n",
    "\n",
    "f'http://www.kobis.or.kr/kobisopenapi/webservice/rest/boxoffice/searchWeeklyBoxOfficeList.json?key={key}&targetDt=20181216&weekGb=0'\n",
    "\n",
    "f'http://www.kobis.or.kr/kobisopenapi/webservice/rest/boxoffice/searchWeeklyBoxOfficeList.json?key={key}&targetDt=20181209&weekGb=0'\n",
    "\n",
    "f'http://www.kobis.or.kr/kobisopenapi/webservice/rest/boxoffice/searchWeeklyBoxOfficeList.json?key={key}&targetDt=20181202&weekGb=0'\n",
    "\n",
    "f'http://www.kobis.or.kr/kobisopenapi/webservice/rest/boxoffice/searchWeeklyBoxOfficeList.json?key={key}&targetDt=20181125&weekGb=0'\n",
    "\n",
    "f'http://www.kobis.or.kr/kobisopenapi/webservice/rest/boxoffice/searchWeeklyBoxOfficeList.json?key={key}&targetDt=20181118&weekGb=0'\n",
    "\n",
    "f'http://www.kobis.or.kr/kobisopenapi/webservice/rest/boxoffice/searchWeeklyBoxOfficeList.json?key={key}&targetDt=20181111&weekGb=0'\n",
    "\n",
    "key = '980c4ba7c2a39916b0df06c58a8889ff'\n"
   ]
  },
  {
   "cell_type": "code",
   "execution_count": null,
   "metadata": {},
   "outputs": [],
   "source": []
  },
  {
   "cell_type": "code",
   "execution_count": 45,
   "metadata": {},
   "outputs": [],
   "source": [
    "import requests\n",
    "# raw_data = requests.get(URL)\n",
    "# data = raw_data.json()\n",
    "\n",
    "\n",
    "data = requests.get(URL).json()\n",
    "\n",
    "data_3 = data['boxOfficeResult']['weeklyBoxOfficeList']\n",
    "\n",
    "data_day = data['boxOfficeResult']['showRange']"
   ]
  },
  {
   "cell_type": "code",
   "execution_count": 39,
   "metadata": {},
   "outputs": [],
   "source": [
    "URL =f'http://www.kobis.or.kr/kobisopenapi/webservice/rest/boxoffice/searchWeeklyBoxOfficeList.json?key={key}&targetDt=20190113&weekGb=0'\n",
    "key = '980c4ba7c2a39916b0df06c58a8889ff'"
   ]
  },
  {
   "cell_type": "code",
   "execution_count": 58,
   "metadata": {},
   "outputs": [
    {
     "name": "stdout",
     "output_type": "stream",
     "text": [
      "['20184105', '말모이', '1185368', '20190113']\n",
      "['20176251', '내안의 그놈', '765383', '20190113']\n",
      "['20189463', '주먹왕 랄프 2: 인터넷 속으로', '1342315', '20190113']\n",
      "['20180290', '아쿠아맨', '4920735', '20190113']\n",
      "['20183915', '극장판 공룡메카드: 타이니소어의 섬', '289873', '20190113']\n",
      "['20185485', '보헤미안 랩소디', '9785643', '20190113']\n",
      "['20184574', '그린 북', '99569', '20190113']\n",
      "['20186281', '범블비', '1553491', '20190113']\n",
      "['20170658', 'PMC: 더 벙커', '1665204', '20190113']\n",
      "['20175547', '스윙키즈', '1462874', '20190113']\n"
     ]
    }
   ],
   "source": [
    "\n",
    "\n",
    "for i in range(0,10):\n",
    "    li = []\n",
    "    result = {\n",
    "        'movieCd': data_3[i]['movieCd'],\n",
    "        'movieNm': data_3[i]['movieNm'],\n",
    "        'audiAcc': data_3[i]['audiAcc'],\n",
    "        'day': data_day[9:]\n",
    "    }\n",
    "    \n",
    "    li.append(result['movieCd'])\n",
    "    li.append(result['movieNm'])\n",
    "    li.append(result['audiAcc'])\n",
    "    li.append(result['day'])\n",
    "    \n",
    "    print(li)"
   ]
  },
  {
   "cell_type": "code",
   "execution_count": 3,
   "metadata": {},
   "outputs": [
    {
     "ename": "NameError",
     "evalue": "name 'csv' is not defined",
     "output_type": "error",
     "traceback": [
      "\u001b[1;31m---------------------------------------------------------------------------\u001b[0m",
      "\u001b[1;31mNameError\u001b[0m                                 Traceback (most recent call last)",
      "\u001b[1;32m<ipython-input-3-c4c9a0a7ae98>\u001b[0m in \u001b[0;36m<module>\u001b[1;34m\u001b[0m\n\u001b[0;32m     26\u001b[0m     \u001b[0mb\u001b[0m \u001b[1;33m=\u001b[0m \u001b[0mli_2\u001b[0m\u001b[1;33m[\u001b[0m\u001b[1;36m4\u001b[0m \u001b[1;33m*\u001b[0m \u001b[0mi\u001b[0m\u001b[1;33m:\u001b[0m \u001b[1;36m4\u001b[0m \u001b[1;33m*\u001b[0m \u001b[1;33m(\u001b[0m\u001b[0mi\u001b[0m \u001b[1;33m+\u001b[0m \u001b[1;36m1\u001b[0m\u001b[1;33m)\u001b[0m\u001b[1;33m]\u001b[0m\u001b[1;33m\u001b[0m\u001b[1;33m\u001b[0m\u001b[0m\n\u001b[0;32m     27\u001b[0m     \u001b[0mf\u001b[0m \u001b[1;33m=\u001b[0m \u001b[0mopen\u001b[0m\u001b[1;33m(\u001b[0m\u001b[1;34m'boxoffice.csv'\u001b[0m\u001b[1;33m,\u001b[0m \u001b[1;34m'a+'\u001b[0m\u001b[1;33m,\u001b[0m \u001b[0mencoding\u001b[0m\u001b[1;33m=\u001b[0m\u001b[1;34m'utf-8'\u001b[0m\u001b[1;33m,\u001b[0m \u001b[0mnewline\u001b[0m\u001b[1;33m=\u001b[0m\u001b[1;34m''\u001b[0m\u001b[1;33m)\u001b[0m\u001b[1;33m\u001b[0m\u001b[1;33m\u001b[0m\u001b[0m\n\u001b[1;32m---> 28\u001b[1;33m     \u001b[0mwriter\u001b[0m \u001b[1;33m=\u001b[0m \u001b[0mcsv\u001b[0m\u001b[1;33m.\u001b[0m\u001b[0mwriter\u001b[0m\u001b[1;33m(\u001b[0m\u001b[0mf\u001b[0m\u001b[1;33m)\u001b[0m\u001b[1;33m\u001b[0m\u001b[1;33m\u001b[0m\u001b[0m\n\u001b[0m\u001b[0;32m     29\u001b[0m \u001b[1;33m\u001b[0m\u001b[0m\n\u001b[0;32m     30\u001b[0m     writer.writerow(\n",
      "\u001b[1;31mNameError\u001b[0m: name 'csv' is not defined"
     ]
    }
   ],
   "source": [
    "import requests\n",
    "\n",
    "day = ['20190113', '20190106', '20181230', '20181223','20181216','20181209', '20181202', '20181125', '20181118', '20181111']\n",
    "key =  '980c4ba7c2a39916b0df06c58a8889ff'\n",
    "\n",
    "day_list = [ f'http://www.kobis.or.kr/kobisopenapi/webservice/rest/boxoffice/searchWeeklyBoxOfficeList.json?key={key}&targetDt={x}&weekGb=0'for x in day]\n",
    "\n",
    "li_2 = []  \n",
    "    \n",
    "for a in day_list:\n",
    "    data = requests.get(a).json()\n",
    "    data_3 = data['boxOfficeResult']['weeklyBoxOfficeList']\n",
    "    data_day = data['boxOfficeResult']['showRange']\n",
    "     \n",
    "    \n",
    "    for i in range(0,10):\n",
    "        if data_3[i]['movieCd'] not in li_2:\n",
    "            li_2 += [data_3[i]['movieCd'],data_3[i]['movieNm'], data_3[i]['audiAcc'], data_day[9:]]\n",
    "\n",
    "            \n",
    "            \n",
    "            \n",
    "a = len(li_2) / 4\n",
    "\n",
    "for i in range(int(a)):    \n",
    "    b = li_2[4 * i: 4 * (i + 1)]\n",
    "    f = open('boxoffice.csv', 'a+', encoding='utf-8', newline='')\n",
    "    writer = csv.writer(f)\n",
    "\n",
    "    writer.writerow(\n",
    "        b\n",
    "    )\n",
    "\n",
    "    f.close\n",
    "\n",
    "\n",
    "\n",
    "\n"
   ]
  }
 ],
 "metadata": {
  "kernelspec": {
   "display_name": "Python 3",
   "language": "python",
   "name": "python3"
  },
  "language_info": {
   "codemirror_mode": {
    "name": "ipython",
    "version": 3
   },
   "file_extension": ".py",
   "mimetype": "text/x-python",
   "name": "python",
   "nbconvert_exporter": "python",
   "pygments_lexer": "ipython3",
   "version": "3.6.7"
  }
 },
 "nbformat": 4,
 "nbformat_minor": 2
}
