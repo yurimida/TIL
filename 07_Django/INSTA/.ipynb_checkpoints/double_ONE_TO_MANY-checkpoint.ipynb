{
 "cells": [
  {
   "cell_type": "markdown",
   "metadata": {},
   "source": [
    "## ONE TO MANY MODEL\n",
    "\n",
    "\n",
    "\n",
    "## Writer\n",
    "\n",
    "| id (PK)   | name      |\n",
    "| ------ | --------- |\n",
    "| INT | CharField |\n",
    "\n",
    "## Book\n",
    "\n",
    "| id(PK)    | author   (FK-Writer)     | title     | description |\n",
    "| ------ | ------------- | --------- | ----------- |\n",
    "| INT | INT | CharField | TextField   |\n",
    "\n",
    "## Chapter\n",
    "\n",
    "| id    (PK) | book_id (FK-Book)    | title     | description |\n",
    "| ------ | ----------- | --------- | ----------- |\n",
    "| INT | INT | CharField | TextField   |\n",
    "\n"
   ]
  },
  {
   "cell_type": "code",
   "execution_count": 1,
   "metadata": {},
   "outputs": [
    {
     "data": {
      "text/plain": [
       "<Writer: 1: 이선 브라운>"
      ]
     },
     "execution_count": 1,
     "metadata": {},
     "output_type": "execute_result"
    }
   ],
   "source": [
    "# Writer 객체 생성\n",
    "Writer.objects.create(name='이선 브라운')"
   ]
  },
  {
   "cell_type": "code",
   "execution_count": null,
   "metadata": {},
   "outputs": [],
   "source": [
    "writer = Writer.objects.get(id=4)\n",
    "writer.delete()"
   ]
  },
  {
   "cell_type": "code",
   "execution_count": 2,
   "metadata": {},
   "outputs": [
    {
     "data": {
      "text/plain": [
       "<Book: 1: 러닝 자바스크립트>"
      ]
     },
     "execution_count": 2,
     "metadata": {},
     "output_type": "execute_result"
    }
   ],
   "source": [
    "# Book 객체 생성\n",
    "Book.objects.create(\n",
    "author = Writer.objects.get(name='이선 브라운'),\n",
    "title = '러닝 자바스크립트',\n",
    "description = ' ES6로 익히는 고품질 자바스크립트 입문에서 서버 개발까지!')"
   ]
  },
  {
   "cell_type": "code",
   "execution_count": 3,
   "metadata": {},
   "outputs": [
    {
     "data": {
      "text/plain": [
       "<Book: 2: 러닝 파이썬>"
      ]
     },
     "execution_count": 3,
     "metadata": {},
     "output_type": "execute_result"
    }
   ],
   "source": [
    "Book.objects.create(\n",
    "author = Writer.objects.get(name='이선 브라운'),\n",
    "title = '러닝 파이썬',\n",
    "description = ' python3로 익히는 고품질 파이썬 입문에서 서버 개발까지!')"
   ]
  },
  {
   "cell_type": "code",
   "execution_count": 4,
   "metadata": {},
   "outputs": [
    {
     "data": {
      "text/plain": [
       "<Chapter: 4: 2: 러닝 파이썬>"
      ]
     },
     "execution_count": 4,
     "metadata": {},
     "output_type": "execute_result"
    }
   ],
   "source": [
    "# Chapter 객체 생성\n",
    "Chapter.objects.create(\n",
    "book= Book.objects.get(id=1),\n",
    "title='First App',\n",
    "description = '시작은 브라우저에서')\n",
    "\n",
    "Chapter.objects.create(\n",
    "book= Book.objects.get(id=1),\n",
    "title='개발 도구',\n",
    "description = '트랜스 컴파일러')\n",
    "\n",
    "Chapter.objects.create(\n",
    "book= Book.objects.get(id=2),\n",
    "title='python 기초문법',\n",
    "description = '변수, 문자열, 숫자, 참/거짓')\n",
    "\n",
    "Chapter.objects.create(\n",
    "book= Book.objects.get(id=2),\n",
    "title='python 자료구조',\n",
    "description = '리스트, 딕셔너리, 튜플, 세트')"
   ]
  },
  {
   "cell_type": "code",
   "execution_count": null,
   "metadata": {},
   "outputs": [],
   "source": [
    "# 파이썬 배우고 싶다... 딕셔너리를 찾아볼까?\n",
    "# '딕셔너리' 라는 챕터 DESCRIPTION이 있는 - 책의 저자가 쓴 모든 책 "
   ]
  },
  {
   "cell_type": "code",
   "execution_count": 5,
   "metadata": {},
   "outputs": [
    {
     "data": {
      "text/plain": [
       "<Chapter: 4: 2: 러닝 파이썬>"
      ]
     },
     "execution_count": 5,
     "metadata": {},
     "output_type": "execute_result"
    }
   ],
   "source": [
    "dic_book = Chapter.objects.filter(description__contains='딕셔너리')[0]\n",
    "dic_book"
   ]
  },
  {
   "cell_type": "code",
   "execution_count": 6,
   "metadata": {},
   "outputs": [
    {
     "data": {
      "text/plain": [
       "<QuerySet [<Book: 1: 러닝 자바스크립트>, <Book: 2: 러닝 파이썬>]>"
      ]
     },
     "execution_count": 6,
     "metadata": {},
     "output_type": "execute_result"
    }
   ],
   "source": [
    "dic_book.book.author.book_set.all()"
   ]
  },
  {
   "cell_type": "code",
   "execution_count": null,
   "metadata": {},
   "outputs": [],
   "source": [
    "# 챕터 중 '딕셔너리' 라는  DESCRIPTION이 있는 - 책 들의 1번 - 의 저자가 - 쓴 모든"
   ]
  },
  {
   "cell_type": "code",
   "execution_count": 37,
   "metadata": {},
   "outputs": [
    {
     "data": {
      "text/plain": [
       "<QuerySet [<Book: 1: 러닝 자바스크립트>, <Book: 2: 러닝 파이썬>]>"
      ]
     },
     "execution_count": 37,
     "metadata": {},
     "output_type": "execute_result"
    }
   ],
   "source": [
    "books = Chapter.objects.filter(description__contains='딕셔너리')[0].book.author.book_set.all()\n",
    "books"
   ]
  },
  {
   "cell_type": "code",
   "execution_count": 38,
   "metadata": {},
   "outputs": [
    {
     "name": "stdout",
     "output_type": "stream",
     "text": [
      "SELECT \"onetomany_book\".\"id\", \"onetomany_book\".\"created\", \"onetomany_book\".\"modified\", \"onetomany_book\".\"title\", \"onetomany_book\".\"description\", \"onetomany_book\".\"author_id\" FROM \"onetomany_book\" WHERE \"onetomany_book\".\"author_id\" = 1\n"
     ]
    }
   ],
   "source": [
    "print(books.query)"
   ]
  },
  {
   "cell_type": "code",
   "execution_count": 28,
   "metadata": {},
   "outputs": [
    {
     "name": "stdout",
     "output_type": "stream",
     "text": [
      "1: 러닝 자바스크립트\n",
      "2: 러닝 파이썬\n"
     ]
    }
   ],
   "source": [
    "for i in books:\n",
    "    print(i)"
   ]
  },
  {
   "cell_type": "code",
   "execution_count": 16,
   "metadata": {},
   "outputs": [],
   "source": [
    "# *책들 중, DB에 2019년에 등록된 모든 책들 중에서 OFFSET 2, LIMIT3 OFFSET은 2번부터 시작  LIMTE 까지 pagenation할때 꺼내올때부터 슬라이싱"
   ]
  },
  {
   "cell_type": "code",
   "execution_count": 42,
   "metadata": {},
   "outputs": [
    {
     "data": {
      "text/plain": [
       "<QuerySet [<Book: 1: 러닝 자바스크립트>, <Book: 2: 러닝 파이썬>]>"
      ]
     },
     "execution_count": 42,
     "metadata": {},
     "output_type": "execute_result"
    }
   ],
   "source": [
    "Book.objects.filter(created__year=2019)"
   ]
  },
  {
   "cell_type": "code",
   "execution_count": 43,
   "metadata": {},
   "outputs": [
    {
     "name": "stdout",
     "output_type": "stream",
     "text": [
      "SELECT \"onetomany_book\".\"id\", \"onetomany_book\".\"created\", \"onetomany_book\".\"modified\", \"onetomany_book\".\"title\", \"onetomany_book\".\"description\", \"onetomany_book\".\"author_id\" FROM \"onetomany_book\" WHERE \"onetomany_book\".\"created\" BETWEEN 2019-01-01 00:00:00 AND 2019-12-31 23:59:59.999999  LIMIT 3 OFFSET 2\n"
     ]
    }
   ],
   "source": [
    "print(Book.objects.filter(created__year=2019)[2:2+3].query)"
   ]
  },
  {
   "cell_type": "code",
   "execution_count": null,
   "metadata": {},
   "outputs": [],
   "source": [
    "# ** 책들 중, DB에 2018년 이후에 등록된 모든 책들 중에서 OFFSET 2, LIMIT 3"
   ]
  },
  {
   "cell_type": "code",
   "execution_count": 30,
   "metadata": {},
   "outputs": [
    {
     "data": {
      "text/plain": [
       "<QuerySet []>"
      ]
     },
     "execution_count": 30,
     "metadata": {},
     "output_type": "execute_result"
    }
   ],
   "source": [
    "Book.objects.filter(created__year__gt=2018)[2:2+3]"
   ]
  },
  {
   "cell_type": "code",
   "execution_count": 36,
   "metadata": {},
   "outputs": [
    {
     "name": "stdout",
     "output_type": "stream",
     "text": [
      "SELECT \"onetomany_book\".\"id\", \"onetomany_book\".\"created\", \"onetomany_book\".\"modified\", \"onetomany_book\".\"title\", \"onetomany_book\".\"description\", \"onetomany_book\".\"author_id\" FROM \"onetomany_book\"  LIMIT 1\n"
     ]
    }
   ],
   "source": [
    "print(Book.objects.all()[0:1].query)"
   ]
  },
  {
   "cell_type": "code",
   "execution_count": null,
   "metadata": {},
   "outputs": [],
   "source": []
  },
  {
   "cell_type": "code",
   "execution_count": null,
   "metadata": {},
   "outputs": [],
   "source": []
  },
  {
   "cell_type": "code",
   "execution_count": null,
   "metadata": {},
   "outputs": [],
   "source": []
  },
  {
   "cell_type": "code",
   "execution_count": null,
   "metadata": {},
   "outputs": [],
   "source": []
  }
 ],
 "metadata": {
  "kernelspec": {
   "display_name": "Django Shell-Plus",
   "language": "python",
   "name": "django_extensions"
  },
  "language_info": {
   "codemirror_mode": {
    "name": "ipython",
    "version": 3
   },
   "file_extension": ".py",
   "mimetype": "text/x-python",
   "name": "python",
   "nbconvert_exporter": "python",
   "pygments_lexer": "ipython3",
   "version": "3.7.3"
  }
 },
 "nbformat": 4,
 "nbformat_minor": 2
}
