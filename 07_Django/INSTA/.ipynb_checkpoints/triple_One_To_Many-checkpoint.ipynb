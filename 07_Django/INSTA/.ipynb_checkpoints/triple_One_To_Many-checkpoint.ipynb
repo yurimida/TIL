{
 "cells": [
  {
   "cell_type": "markdown",
   "metadata": {},
   "source": [
    "# ONE TO MANY 3\n",
    "\n",
    "## Student\n",
    "\n",
    "| id(PK) | name          |\n",
    "| ------ | ------------- |\n",
    "| INT    | CharField(20) |\n",
    "\n",
    "## Message\n",
    "\n",
    "| id(PK) | content       | student(FK) |\n",
    "| ------ | ------------- | ----------- |\n",
    "| INT    | CharField(30) | INT         |\n",
    "\n",
    "## Reply\n",
    "\n",
    "| id(PK) | message(FK)-Message | student(FK)-Student | content       |\n",
    "| ------ | ------------------- | ------------------- | ------------- |\n",
    "| INT    | INT                 | INT                 | CharField(30) |\n"
   ]
  }
 ],
 "metadata": {
  "kernelspec": {
   "display_name": "Django Shell-Plus",
   "language": "python",
   "name": "django_extensions"
  },
  "language_info": {
   "codemirror_mode": {
    "name": "ipython",
    "version": 3
   },
   "file_extension": ".py",
   "mimetype": "text/x-python",
   "name": "python",
   "nbconvert_exporter": "python",
   "pygments_lexer": "ipython3",
   "version": "3.7.3"
  }
 },
 "nbformat": 4,
 "nbformat_minor": 2
}
