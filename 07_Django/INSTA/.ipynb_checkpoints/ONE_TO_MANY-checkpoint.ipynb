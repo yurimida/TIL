{
 "cells": [
  {
   "cell_type": "markdown",
   "metadata": {},
   "source": [
    "## ONE TO MANY MODEL\n",
    "\n",
    "\n",
    "\n",
    "## Writer\n",
    "\n",
    "| id     | name      |\n",
    "| ------ | --------- |\n",
    "| PK,INT | CharField |\n",
    "\n",
    "## Book\n",
    "\n",
    "| id     | author        | title     | description |\n",
    "| ------ | ------------- | --------- | ----------- |\n",
    "| PK,INT | PK,Writer.INT | CharField | TextField   |"
   ]
  },
  {
   "cell_type": "code",
   "execution_count": 1,
   "metadata": {},
   "outputs": [
    {
     "data": {
      "text/plain": [
       "onetomany.models.Book"
      ]
     },
     "execution_count": 1,
     "metadata": {},
     "output_type": "execute_result"
    }
   ],
   "source": [
    "Book"
   ]
  },
  {
   "cell_type": "code",
   "execution_count": 19,
   "metadata": {},
   "outputs": [
    {
     "data": {
      "text/plain": [
       "<QuerySet [<Writer: Writer object (1)>]>"
      ]
     },
     "execution_count": 19,
     "metadata": {},
     "output_type": "execute_result"
    }
   ],
   "source": [
    "Writer.objects.create(name='박경리') #조건 만족하는 객체 한개 return \n",
    "writers = Writer.objects.filter(name='박경리') #조건을 만족하는 모든 객체 return \n",
    "writer.name\n",
    "park_writers_family = Writer.objects.filter(name__contains='박')\n",
    "park_writers_family"
   ]
  },
  {
   "cell_type": "code",
   "execution_count": 20,
   "metadata": {},
   "outputs": [
    {
     "data": {
      "text/plain": [
       "<Book: Book object (1)>"
      ]
     },
     "execution_count": 20,
     "metadata": {},
     "output_type": "execute_result"
    }
   ],
   "source": [
    "writer = Writer.objects.get(id=1)\n",
    "Book.objects.create(\n",
    "    #author = writer\n",
    "author_id = writer.id,\n",
    "title='토지',\n",
    "description='최참판 일가와 이용 일가의 가족사를 중심으로 구한말부터 일제강점기를 지나 광복까지의 내용을 다루고 있으며, 모두 5부 16권의 분량으로 구성되어 있다. 1부는 1894년 평사리에서 벌어지는 일을 중심으로 최참판 일가의 몰락을 그리고 있으며, 2부에서는 배경을 만주 용정으로 옮겨 최서희의 치부와 조준구에 대한 복수, 그리고 최서희와 두 아들을 비롯한 평사리 사람들의 귀향을 그리고 있다. 3부에서는 배경이 넓어져 만주와 일본 동경, 서울과 진주를 중심으로 이야기가 전개되며 김환(구천이)이 옥사한다. 4부에서는 김길상의 출옥과 탱화의 완성, 기화(봉순이)의 죽음, 그리고 오가다 지로와 유인실의 사랑과 갈등을 그리고 있으며, 2세대인 이 용의 아들 이홍과, 최서희와 김길상의 두 아들 최환국과 최윤국이 이야기의 전면에 서서히 등장한다. 5부에서는 제2차 세계 대전 가운데 한국인들의 고난과 기다림을 형상화하고 있으며, 주요사건은 이상현과 기화의 딸 이양현과 최윤국, 그리고 송관수의 아들 송영광의 삼각관계가 있다. 이 소설은 일본의 무조건 항복을 알리는 라디오 방송을 들은 이양현이 최서희에게 달려와 그 소식을 전하는 것으로 끝난다.')"
   ]
  },
  {
   "cell_type": "code",
   "execution_count": 21,
   "metadata": {},
   "outputs": [
    {
     "data": {
      "text/plain": [
       "<Book: Book object (2)>"
      ]
     },
     "execution_count": 21,
     "metadata": {},
     "output_type": "execute_result"
    }
   ],
   "source": [
    "Book.objects.create(\n",
    "author_id = writer.id,\n",
    "title='불신시대',\n",
    "description='  한국 동한 와중에 남편과 사별한 진영은 한 점 혈육인 아들 문수마저 엑스레이도 찍지 않고 약도 준비하지 않은 의사의 무관심 때문에 잃어버리고 만다. 아들 문수의 죽음이 가져온 충격은 그녀로 하여금 사회를 불신하게 만든다.')"
   ]
  },
  {
   "cell_type": "code",
   "execution_count": 26,
   "metadata": {},
   "outputs": [
    {
     "data": {
      "text/plain": [
       "'박경리'"
      ]
     },
     "execution_count": 26,
     "metadata": {},
     "output_type": "execute_result"
    }
   ],
   "source": [
    "writer = Writer.objects.get(id=1)\n",
    "writer.name"
   ]
  },
  {
   "cell_type": "code",
   "execution_count": 27,
   "metadata": {},
   "outputs": [],
   "source": [
    "book1 = Book.objects.first()\n",
    "book2 = Book.objects.last()"
   ]
  },
  {
   "cell_type": "code",
   "execution_count": 28,
   "metadata": {},
   "outputs": [
    {
     "data": {
      "text/plain": [
       "'토지'"
      ]
     },
     "execution_count": 28,
     "metadata": {},
     "output_type": "execute_result"
    }
   ],
   "source": [
    "book1.title"
   ]
  },
  {
   "cell_type": "code",
   "execution_count": 29,
   "metadata": {},
   "outputs": [
    {
     "data": {
      "text/plain": [
       "'불신시대'"
      ]
     },
     "execution_count": 29,
     "metadata": {},
     "output_type": "execute_result"
    }
   ],
   "source": [
    "book2.title"
   ]
  },
  {
   "cell_type": "code",
   "execution_count": 30,
   "metadata": {},
   "outputs": [
    {
     "data": {
      "text/plain": [
       "'최참판 일가와 이용 일가의 가족사를 중심으로 구한말부터 일제강점기를 지나 광복까지의 내용을 다루고 있으며, 모두 5부 16권의 분량으로 구성되어 있다. 1부는 1894년 평사리에서 벌어지는 일을 중심으로 최참판 일가의 몰락을 그리고 있으며, 2부에서는 배경을 만주 용정으로 옮겨 최서희의 치부와 조준구에 대한 복수, 그리고 최서희와 두 아들을 비롯한 평사리 사람들의 귀향을 그리고 있다. 3부에서는 배경이 넓어져 만주와 일본 동경, 서울과 진주를 중심으로 이야기가 전개되며 김환(구천이)이 옥사한다. 4부에서는 김길상의 출옥과 탱화의 완성, 기화(봉순이)의 죽음, 그리고 오가다 지로와 유인실의 사랑과 갈등을 그리고 있으며, 2세대인 이 용의 아들 이홍과, 최서희와 김길상의 두 아들 최환국과 최윤국이 이야기의 전면에 서서히 등장한다. 5부에서는 제2차 세계 대전 가운데 한국인들의 고난과 기다림을 형상화하고 있으며, 주요사건은 이상현과 기화의 딸 이양현과 최윤국, 그리고 송관수의 아들 송영광의 삼각관계가 있다. 이 소설은 일본의 무조건 항복을 알리는 라디오 방송을 들은 이양현이 최서희에게 달려와 그 소식을 전하는 것으로 끝난다.'"
      ]
     },
     "execution_count": 30,
     "metadata": {},
     "output_type": "execute_result"
    }
   ],
   "source": [
    "book1.description"
   ]
  },
  {
   "cell_type": "code",
   "execution_count": 31,
   "metadata": {},
   "outputs": [
    {
     "data": {
      "text/plain": [
       "'  한국 동한 와중에 남편과 사별한 진영은 한 점 혈육인 아들 문수마저 엑스레이도 찍지 않고 약도 준비하지 않은 의사의 무관심 때문에 잃어버리고 만다. 아들 문수의 죽음이 가져온 충격은 그녀로 하여금 사회를 불신하게 만든다.'"
      ]
     },
     "execution_count": 31,
     "metadata": {},
     "output_type": "execute_result"
    }
   ],
   "source": [
    "book2.description"
   ]
  },
  {
   "cell_type": "code",
   "execution_count": 32,
   "metadata": {},
   "outputs": [
    {
     "data": {
      "text/plain": [
       "datetime.datetime(2019, 4, 15, 15, 8, 59, 538503)"
      ]
     },
     "execution_count": 32,
     "metadata": {},
     "output_type": "execute_result"
    }
   ],
   "source": [
    "book1.created_at"
   ]
  },
  {
   "cell_type": "code",
   "execution_count": 33,
   "metadata": {},
   "outputs": [
    {
     "data": {
      "text/plain": [
       "datetime.datetime(2019, 4, 15, 15, 9, 1, 335443)"
      ]
     },
     "execution_count": 33,
     "metadata": {},
     "output_type": "execute_result"
    }
   ],
   "source": [
    "book2.created_at"
   ]
  },
  {
   "cell_type": "code",
   "execution_count": 36,
   "metadata": {},
   "outputs": [
    {
     "data": {
      "text/plain": [
       "'박경리'"
      ]
     },
     "execution_count": 36,
     "metadata": {},
     "output_type": "execute_result"
    }
   ],
   "source": [
    "book1.author.name"
   ]
  },
  {
   "cell_type": "code",
   "execution_count": null,
   "metadata": {},
   "outputs": [],
   "source": [
    "'''\n",
    "'토지'를 너무 감명깊게 봐서 \n",
    "1. 책들 전체에서 '토지'라는 제목의 책을 찾는다.\n",
    "2. 이 책의 작가 이름을 찾는다.\n",
    "3. 작가들중에 그 이름을 가진 사람을 찾는다.\n",
    "4. 책들 전체에서 그 작가의 책을 전부 가져온다. \n",
    "'''"
   ]
  },
  {
   "cell_type": "code",
   "execution_count": 1,
   "metadata": {},
   "outputs": [],
   "source": [
    "favorite_book = Book.objects.get(title='토지')\n",
    "favorite_writer_name = favorite_book.author.name"
   ]
  },
  {
   "cell_type": "code",
   "execution_count": 2,
   "metadata": {},
   "outputs": [],
   "source": [
    "favorite_writer = Writer.objects.get(name=favorite_writer_name)\n",
    "book_wish_list = Book.objects.filter(author=favorite_writer)"
   ]
  },
  {
   "cell_type": "code",
   "execution_count": 3,
   "metadata": {},
   "outputs": [
    {
     "data": {
      "text/plain": [
       "<QuerySet [<Book: 1: 토지>, <Book: 2: 불신시대>]>"
      ]
     },
     "execution_count": 3,
     "metadata": {},
     "output_type": "execute_result"
    }
   ],
   "source": [
    "book_wish_list"
   ]
  },
  {
   "cell_type": "code",
   "execution_count": 5,
   "metadata": {},
   "outputs": [
    {
     "data": {
      "text/plain": [
       "<QuerySet [<Book: 1: 토지>, <Book: 2: 불신시대>]>"
      ]
     },
     "execution_count": 5,
     "metadata": {},
     "output_type": "execute_result"
    }
   ],
   "source": [
    "Book.objects.filter(author=Book.objects.get(title='토지').author)\n",
    "#filter 많은 객체를 가지고 올때"
   ]
  },
  {
   "cell_type": "code",
   "execution_count": 9,
   "metadata": {},
   "outputs": [
    {
     "data": {
      "text/plain": [
       "<Writer: 1: 박경리>"
      ]
     },
     "execution_count": 9,
     "metadata": {},
     "output_type": "execute_result"
    }
   ],
   "source": [
    "Book.objects.get(title='토지').author"
   ]
  },
  {
   "cell_type": "code",
   "execution_count": 20,
   "metadata": {},
   "outputs": [
    {
     "data": {
      "text/plain": [
       "'토지'"
      ]
     },
     "execution_count": 20,
     "metadata": {},
     "output_type": "execute_result"
    }
   ],
   "source": [
    "Book.objects.filter(description__contains='아들')[0].title"
   ]
  },
  {
   "cell_type": "code",
   "execution_count": 17,
   "metadata": {},
   "outputs": [
    {
     "data": {
      "text/plain": [
       "<QuerySet [<Book: 1: 토지>, <Book: 2: 불신시대>]>"
      ]
     },
     "execution_count": 17,
     "metadata": {},
     "output_type": "execute_result"
    }
   ],
   "source": [
    "Book.objects.filter(description__contains='아들')\n",
    "#filter자체는 list이기 때문에 [i] 인덱스 값을 주면 찾을수있음."
   ]
  },
  {
   "cell_type": "code",
   "execution_count": 21,
   "metadata": {},
   "outputs": [
    {
     "data": {
      "text/plain": [
       "<QuerySet [<Book: 1: 토지>, <Book: 2: 불신시대>]>"
      ]
     },
     "execution_count": 21,
     "metadata": {},
     "output_type": "execute_result"
    }
   ],
   "source": [
    "favorite_writer.book_set.all()\n",
    "# 책 전체중에 내가 가장 좋아하는 작가님이 쓴 책 다 가지고와"
   ]
  }
 ],
 "metadata": {
  "kernelspec": {
   "display_name": "Django Shell-Plus",
   "language": "python",
   "name": "django_extensions"
  },
  "language_info": {
   "codemirror_mode": {
    "name": "ipython",
    "version": 3
   },
   "file_extension": ".py",
   "mimetype": "text/x-python",
   "name": "python",
   "nbconvert_exporter": "python",
   "pygments_lexer": "ipython3",
   "version": "3.7.3"
  }
 },
 "nbformat": 4,
 "nbformat_minor": 2
}
